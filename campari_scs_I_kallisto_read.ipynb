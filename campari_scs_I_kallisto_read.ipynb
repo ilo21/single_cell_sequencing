{
 "cells": [
  {
   "cell_type": "markdown",
   "id": "43124cac",
   "metadata": {},
   "source": [
    "# Single Cell Sequencing : kallisto readout\n",
    "\n",
    "It includes reading from fastq files using Kallisto (for that the mouse index of genes is required).\n",
    "\n",
    "\n",
    "\n",
    "IMPORTANT: AFTER RUNNING THIS, AND BEFORE GOING TO QUALITY CONTROL SOME OF THE .TXT FILES NEED TO HAVE A MANUAL MODIFICATION SO THEY CAN ME READ AS A PANDAS STRUCTURE LATER! I WILL SHOW THIS MANUALLY"
   ]
  },
  {
   "cell_type": "code",
   "execution_count": 3,
   "id": "d23706c6",
   "metadata": {},
   "outputs": [
    {
     "name": "stdout",
     "output_type": "stream",
     "text": [
      "[2024-01-28 23:47:24,477]    INFO [download] Downloading files for mouse (standard workflow) from https://github.com/pachterlab/kallisto-transcriptome-indices/releases/download/v1/mouse_index_standard.tar.xz to tmp/mouse_index_standard.tar.xz\n",
      "100%|██████████████████████████████████████| 82.8M/82.8M [00:02<00:00, 33.4MB/s]\n",
      "[2024-01-28 23:47:27,080]    INFO [download] Extracting files from tmp/mouse_index_standard.tar.xz\n"
     ]
    }
   ],
   "source": [
    "### For comparing your sequencing with the already known genome you need to download the apropiate gene atlas (only once)\n",
    "### Use kallisto to download mouse index here\n",
    "\n",
    "!kb ref -d mouse -i index.idx -g t2g.txt"
   ]
  },
  {
   "cell_type": "code",
   "execution_count": null,
   "id": "22f2cd7a",
   "metadata": {},
   "outputs": [],
   "source": [
    "###SAMPLE1\n",
    "\n",
    "# This step runs `kb` to pseudoalign the reads, and then generate the cells x gene matrix in h5ad format.\n",
    "### genrealal structure:\n",
    "# index.idx and t2g.txt are files that were downloaded on the previous cell. They refer to the gene atlas\n",
    "# -x is the input to the sequencing technique that was use. Kallisto supports multiple sequencing techniques\n",
    "# (check kb --list for more information)\n",
    "# SMARTSEQ3 is the method we used for this sequencing\n",
    "# (this sequencing format requires 4 files to be processed togehter, to put all of them as inputs)\n",
    "# the 4 files have always names x_I1_001.fastq.gz, x_I2_001.fastq.gz, x_R1_001.fastq.gz and x_R2_001.fastq.gz\n",
    "# --h4ad is the desired output format. If loom file is prefered, just changed it there. "
   ]
  },
  {
   "cell_type": "code",
   "execution_count": 2,
   "id": "c7cba5e4",
   "metadata": {},
   "outputs": [
    {
     "name": "stdout",
     "output_type": "stream",
     "text": [
      "[2024-01-26 15:42:41,668]    INFO [count] Using index index.idx to generate BUS file to sample1 from\n",
      "[2024-01-26 15:42:41,668]    INFO [count]         /home/ilosz01/Documents/single_cell_sequencing/data/sample1/P28203_5007_S7_I1_001.fastq.gz\n",
      "[2024-01-26 15:42:41,668]    INFO [count]         /home/ilosz01/Documents/single_cell_sequencing/data/sample1/P28203_5007_S7_I2_001.fastq.gz\n",
      "[2024-01-26 15:42:41,668]    INFO [count]         /home/ilosz01/Documents/single_cell_sequencing/data/sample1/P28203_5007_S7_R1_001.fastq.gz\n",
      "[2024-01-26 15:42:41,668]    INFO [count]         /home/ilosz01/Documents/single_cell_sequencing/data/sample1/P28203_5007_S7_R2_001.fastq.gz\n",
      "[2024-01-26 16:02:53,484]    INFO [count] Sorting BUS file sample1/output.bus to sample1/tmp/output.s.bus\n",
      "[2024-01-26 16:03:08,620]    INFO [count] On-list not provided\n",
      "[2024-01-26 16:03:08,620]    INFO [count] Generating on-list sample1/whitelist.txt from BUS file sample1/tmp/output.s.bus\n",
      "[2024-01-26 16:03:09,936]    INFO [count] Inspecting BUS file sample1/tmp/output.s.bus\n",
      "[2024-01-26 16:03:11,453]    INFO [count] Correcting BUS records in sample1/tmp/output.s.bus to sample1/tmp/output.s.c.bus with on-list sample1/whitelist.txt\n",
      "[2024-01-26 16:03:14,973]    INFO [count] Sorting BUS file sample1/tmp/output.s.c.bus to sample1/output.unfiltered.bus\n",
      "[2024-01-26 16:03:19,092]    INFO [count] Capturing records from BUS file sample1/output.unfiltered.bus to sample1/output_internal.bus with capture list sample1/capture_nonUMI.txt\n",
      "[2024-01-26 16:03:21,819]    INFO [count] Inspecting BUS file sample1/output_internal.bus\n",
      "[2024-01-26 16:03:22,931]    INFO [count] Sorting BUS file sample1/output_internal.bus to sample1/output_internal.unfiltered.bus\n",
      "[2024-01-26 16:03:24,946]    INFO [count] Generating count matrix sample1/counts_unfiltered_internal/cells_x_genes from BUS file sample1/output_internal.unfiltered.bus\n",
      "[2024-01-26 16:03:30,816]    INFO [count] Writing gene names to file sample1/counts_unfiltered_internal/cells_x_genes.genes.names.txt\n",
      "[2024-01-26 16:03:30,969] WARNING [count] 1599 gene IDs do not have corresponding valid gene names. These genes will use their gene IDs instead.\n",
      "[2024-01-26 16:03:30,980]    INFO [count] Reading matrix sample1/counts_unfiltered_internal/cells_x_genes.mtx\n",
      "[2024-01-26 16:03:33,795]    INFO [count] Writing matrix to h5ad sample1/counts_unfiltered_internal/adata.h5ad\n",
      "[2024-01-26 16:03:33,830]    INFO [count] Capturing records from BUS file sample1/output.unfiltered.bus to sample1/output_umi.bus with capture list sample1/capture_nonUMI.txt\n",
      "[2024-01-26 16:03:37,659]    INFO [count] Inspecting BUS file sample1/output_umi.bus\n",
      "[2024-01-26 16:03:39,077]    INFO [count] Sorting BUS file sample1/output_umi.bus to sample1/output_umi.unfiltered.bus\n",
      "[2024-01-26 16:03:42,407]    INFO [count] Generating count matrix sample1/counts_unfiltered_umi/cells_x_genes from BUS file sample1/output_umi.unfiltered.bus\n",
      "[2024-01-26 16:03:51,878]    INFO [count] Writing gene names to file sample1/counts_unfiltered_umi/cells_x_genes.genes.names.txt\n",
      "[2024-01-26 16:03:52,000] WARNING [count] 1599 gene IDs do not have corresponding valid gene names. These genes will use their gene IDs instead.\n",
      "[2024-01-26 16:03:52,012]    INFO [count] Reading matrix sample1/counts_unfiltered_umi/cells_x_genes.mtx\n",
      "[2024-01-26 16:03:54,656]    INFO [count] Writing matrix to h5ad sample1/counts_unfiltered_umi/adata.h5ad\n"
     ]
    }
   ],
   "source": [
    "###SAMPLE1\n",
    "!kb count -i index.idx -g t2g.txt -x SMARTSEQ3 -o sample1 --h5ad\\\n",
    "/home/ilosz01/Documents/single_cell_sequencing/data/sample1/P28203_5007_S7_I1_001.fastq.gz \\\n",
    "/home/ilosz01/Documents/single_cell_sequencing/data/sample1/P28203_5007_S7_I2_001.fastq.gz \\\n",
    "/home/ilosz01/Documents/single_cell_sequencing/data/sample1/P28203_5007_S7_R1_001.fastq.gz \\\n",
    "/home/ilosz01/Documents/single_cell_sequencing/data/sample1/P28203_5007_S7_R2_001.fastq.gz "
   ]
  },
  {
   "cell_type": "code",
   "execution_count": 3,
   "id": "3d571679",
   "metadata": {},
   "outputs": [
    {
     "name": "stdout",
     "output_type": "stream",
     "text": [
      "[2024-01-26 16:04:28,383]    INFO [count] Using index index.idx to generate BUS file to sample2 from\n",
      "[2024-01-26 16:04:28,383]    INFO [count]         /home/ilosz01/Documents/single_cell_sequencing/data/sample2/P28605_8001_S1_I1_001.fastq.gz\n",
      "[2024-01-26 16:04:28,383]    INFO [count]         /home/ilosz01/Documents/single_cell_sequencing/data/sample2/P28605_8001_S1_I2_001.fastq.gz\n",
      "[2024-01-26 16:04:28,383]    INFO [count]         /home/ilosz01/Documents/single_cell_sequencing/data/sample2/P28605_8001_S1_R1_001.fastq.gz\n",
      "[2024-01-26 16:04:28,384]    INFO [count]         /home/ilosz01/Documents/single_cell_sequencing/data/sample2/P28605_8001_S1_R2_001.fastq.gz\n",
      "[2024-01-26 16:32:08,539]    INFO [count] Sorting BUS file sample2/output.bus to sample2/tmp/output.s.bus\n",
      "[2024-01-26 16:32:34,498]    INFO [count] On-list not provided\n",
      "[2024-01-26 16:32:34,499]    INFO [count] Generating on-list sample2/whitelist.txt from BUS file sample2/tmp/output.s.bus\n",
      "[2024-01-26 16:32:35,914]    INFO [count] Inspecting BUS file sample2/tmp/output.s.bus\n",
      "[2024-01-26 16:32:37,526]    INFO [count] Correcting BUS records in sample2/tmp/output.s.bus to sample2/tmp/output.s.c.bus with on-list sample2/whitelist.txt\n",
      "[2024-01-26 16:32:41,947]    INFO [count] Sorting BUS file sample2/tmp/output.s.c.bus to sample2/output.unfiltered.bus\n",
      "[2024-01-26 16:32:52,883]    INFO [count] Capturing records from BUS file sample2/output.unfiltered.bus to sample2/output_internal.bus with capture list sample2/capture_nonUMI.txt\n",
      "[2024-01-26 16:32:55,815]    INFO [count] Inspecting BUS file sample2/output_internal.bus\n",
      "[2024-01-26 16:32:56,927]    INFO [count] Sorting BUS file sample2/output_internal.bus to sample2/output_internal.unfiltered.bus\n",
      "[2024-01-26 16:32:59,041]    INFO [count] Generating count matrix sample2/counts_unfiltered_internal/cells_x_genes from BUS file sample2/output_internal.unfiltered.bus\n",
      "[2024-01-26 16:33:05,939]    INFO [count] Writing gene names to file sample2/counts_unfiltered_internal/cells_x_genes.genes.names.txt\n",
      "[2024-01-26 16:33:06,091] WARNING [count] 1599 gene IDs do not have corresponding valid gene names. These genes will use their gene IDs instead.\n",
      "[2024-01-26 16:33:06,101]    INFO [count] Reading matrix sample2/counts_unfiltered_internal/cells_x_genes.mtx\n",
      "[2024-01-26 16:33:09,505]    INFO [count] Writing matrix to h5ad sample2/counts_unfiltered_internal/adata.h5ad\n",
      "[2024-01-26 16:33:09,540]    INFO [count] Capturing records from BUS file sample2/output.unfiltered.bus to sample2/output_umi.bus with capture list sample2/capture_nonUMI.txt\n",
      "[2024-01-26 16:33:14,078]    INFO [count] Inspecting BUS file sample2/output_umi.bus\n",
      "[2024-01-26 16:33:15,595]    INFO [count] Sorting BUS file sample2/output_umi.bus to sample2/output_umi.unfiltered.bus\n",
      "[2024-01-26 16:33:19,924]    INFO [count] Generating count matrix sample2/counts_unfiltered_umi/cells_x_genes from BUS file sample2/output_umi.unfiltered.bus\n",
      "[2024-01-26 16:33:33,245]    INFO [count] Writing gene names to file sample2/counts_unfiltered_umi/cells_x_genes.genes.names.txt\n",
      "[2024-01-26 16:33:33,361] WARNING [count] 1599 gene IDs do not have corresponding valid gene names. These genes will use their gene IDs instead.\n",
      "[2024-01-26 16:33:33,374]    INFO [count] Reading matrix sample2/counts_unfiltered_umi/cells_x_genes.mtx\n",
      "[2024-01-26 16:33:36,676]    INFO [count] Writing matrix to h5ad sample2/counts_unfiltered_umi/adata.h5ad\n"
     ]
    }
   ],
   "source": [
    "###SAMPLE2\n",
    "!kb count -i index.idx -g t2g.txt -x SMARTSEQ3 -o sample2 --h5ad\\\n",
    "/home/ilosz01/Documents/single_cell_sequencing/data/sample2/P28605_8001_S1_I1_001.fastq.gz \\\n",
    "/home/ilosz01/Documents/single_cell_sequencing/data/sample2/P28605_8001_S1_I2_001.fastq.gz \\\n",
    "/home/ilosz01/Documents/single_cell_sequencing/data/sample2/P28605_8001_S1_R1_001.fastq.gz \\\n",
    "/home/ilosz01/Documents/single_cell_sequencing/data/sample2/P28605_8001_S1_R2_001.fastq.gz "
   ]
  },
  {
   "cell_type": "code",
   "execution_count": 4,
   "id": "8462b905",
   "metadata": {},
   "outputs": [
    {
     "name": "stdout",
     "output_type": "stream",
     "text": [
      "[2024-01-26 19:00:03,302]    INFO [count] Using index index.idx to generate BUS file to sample3 from\n",
      "[2024-01-26 19:00:03,302]    INFO [count]         /home/ilosz01/Documents/single_cell_sequencing/data/sample3/P29058_6012_S12_I1_001.fastq.gz\n",
      "[2024-01-26 19:00:03,302]    INFO [count]         /home/ilosz01/Documents/single_cell_sequencing/data/sample3/P29058_6012_S12_I2_001.fastq.gz\n",
      "[2024-01-26 19:00:03,302]    INFO [count]         /home/ilosz01/Documents/single_cell_sequencing/data/sample3/P29058_6012_S12_R1_001.fastq.gz\n",
      "[2024-01-26 19:00:03,302]    INFO [count]         /home/ilosz01/Documents/single_cell_sequencing/data/sample3/P29058_6012_S12_R2_001.fastq.gz\n",
      "[2024-01-26 19:18:22,864]    INFO [count] Sorting BUS file sample3/output.bus to sample3/tmp/output.s.bus\n",
      "[2024-01-26 19:18:37,398]    INFO [count] On-list not provided\n",
      "[2024-01-26 19:18:37,398]    INFO [count] Generating on-list sample3/whitelist.txt from BUS file sample3/tmp/output.s.bus\n",
      "[2024-01-26 19:18:38,612]    INFO [count] Inspecting BUS file sample3/tmp/output.s.bus\n",
      "[2024-01-26 19:18:40,025]    INFO [count] Correcting BUS records in sample3/tmp/output.s.bus to sample3/tmp/output.s.c.bus with on-list sample3/whitelist.txt\n",
      "[2024-01-26 19:18:43,542]    INFO [count] Sorting BUS file sample3/tmp/output.s.c.bus to sample3/output.unfiltered.bus\n",
      "[2024-01-26 19:18:47,464]    INFO [count] Capturing records from BUS file sample3/output.unfiltered.bus to sample3/output_internal.bus with capture list sample3/capture_nonUMI.txt\n",
      "[2024-01-26 19:18:50,195]    INFO [count] Inspecting BUS file sample3/output_internal.bus\n",
      "[2024-01-26 19:18:51,308]    INFO [count] Sorting BUS file sample3/output_internal.bus to sample3/output_internal.unfiltered.bus\n",
      "[2024-01-26 19:18:53,425]    INFO [count] Generating count matrix sample3/counts_unfiltered_internal/cells_x_genes from BUS file sample3/output_internal.unfiltered.bus\n",
      "[2024-01-26 19:18:59,722]    INFO [count] Writing gene names to file sample3/counts_unfiltered_internal/cells_x_genes.genes.names.txt\n",
      "[2024-01-26 19:18:59,878] WARNING [count] 1599 gene IDs do not have corresponding valid gene names. These genes will use their gene IDs instead.\n",
      "[2024-01-26 19:18:59,889]    INFO [count] Reading matrix sample3/counts_unfiltered_internal/cells_x_genes.mtx\n",
      "[2024-01-26 19:19:03,012]    INFO [count] Writing matrix to h5ad sample3/counts_unfiltered_internal/adata.h5ad\n",
      "[2024-01-26 19:19:03,046]    INFO [count] Capturing records from BUS file sample3/output.unfiltered.bus to sample3/output_umi.bus with capture list sample3/capture_nonUMI.txt\n",
      "[2024-01-26 19:19:06,684]    INFO [count] Inspecting BUS file sample3/output_umi.bus\n",
      "[2024-01-26 19:19:08,010]    INFO [count] Sorting BUS file sample3/output_umi.bus to sample3/output_umi.unfiltered.bus\n",
      "[2024-01-26 19:19:11,139]    INFO [count] Generating count matrix sample3/counts_unfiltered_umi/cells_x_genes from BUS file sample3/output_umi.unfiltered.bus\n",
      "[2024-01-26 19:19:20,392]    INFO [count] Writing gene names to file sample3/counts_unfiltered_umi/cells_x_genes.genes.names.txt\n",
      "[2024-01-26 19:19:20,512] WARNING [count] 1599 gene IDs do not have corresponding valid gene names. These genes will use their gene IDs instead.\n",
      "[2024-01-26 19:19:20,525]    INFO [count] Reading matrix sample3/counts_unfiltered_umi/cells_x_genes.mtx\n",
      "[2024-01-26 19:19:23,450]    INFO [count] Writing matrix to h5ad sample3/counts_unfiltered_umi/adata.h5ad\n"
     ]
    }
   ],
   "source": [
    "###SAMPLE3\n",
    "!kb count -i index.idx -g t2g.txt -x SMARTSEQ3 -o sample3 --h5ad\\\n",
    "/home/ilosz01/Documents/single_cell_sequencing/data/sample3/P29058_6012_S12_I1_001.fastq.gz \\\n",
    "/home/ilosz01/Documents/single_cell_sequencing/data/sample3/P29058_6012_S12_I2_001.fastq.gz \\\n",
    "/home/ilosz01/Documents/single_cell_sequencing/data/sample3/P29058_6012_S12_R1_001.fastq.gz \\\n",
    "/home/ilosz01/Documents/single_cell_sequencing/data/sample3/P29058_6012_S12_R2_001.fastq.gz "
   ]
  },
  {
   "cell_type": "code",
   "execution_count": 6,
   "id": "4cb816c0",
   "metadata": {},
   "outputs": [
    {
     "name": "stdout",
     "output_type": "stream",
     "text": [
      "[2024-01-26 19:25:26,935]    INFO [count] Using index index.idx to generate BUS file to sample4 from\n",
      "[2024-01-26 19:25:26,936]    INFO [count]         /home/ilosz01/Documents/single_cell_sequencing/data/sample4/P28606_1001_S14_I1_001.fastq.gz\n",
      "[2024-01-26 19:25:26,936]    INFO [count]         /home/ilosz01/Documents/single_cell_sequencing/data/sample4/P28606_1001_S14_I2_001.fastq.gz\n",
      "[2024-01-26 19:25:26,936]    INFO [count]         /home/ilosz01/Documents/single_cell_sequencing/data/sample4/P28606_1001_S14_R1_001.fastq.gz\n",
      "[2024-01-26 19:25:26,936]    INFO [count]         /home/ilosz01/Documents/single_cell_sequencing/data/sample4/P28606_1001_S14_R2_001.fastq.gz\n",
      "[2024-01-26 19:47:04,354]    INFO [count] Sorting BUS file sample4/output.bus to sample4/tmp/output.s.bus\n",
      "[2024-01-26 19:47:21,195]    INFO [count] On-list not provided\n",
      "[2024-01-26 19:47:21,195]    INFO [count] Generating on-list sample4/whitelist.txt from BUS file sample4/tmp/output.s.bus\n",
      "[2024-01-26 19:47:22,510]    INFO [count] Inspecting BUS file sample4/tmp/output.s.bus\n",
      "[2024-01-26 19:47:24,023]    INFO [count] Correcting BUS records in sample4/tmp/output.s.bus to sample4/tmp/output.s.c.bus with on-list sample4/whitelist.txt\n",
      "[2024-01-26 19:47:27,843]    INFO [count] Sorting BUS file sample4/tmp/output.s.c.bus to sample4/output.unfiltered.bus\n",
      "[2024-01-26 19:47:32,564]    INFO [count] Capturing records from BUS file sample4/output.unfiltered.bus to sample4/output_internal.bus with capture list sample4/capture_nonUMI.txt\n",
      "[2024-01-26 19:47:35,394]    INFO [count] Inspecting BUS file sample4/output_internal.bus\n",
      "[2024-01-26 19:47:36,509]    INFO [count] Sorting BUS file sample4/output_internal.bus to sample4/output_internal.unfiltered.bus\n",
      "[2024-01-26 19:47:38,526]    INFO [count] Generating count matrix sample4/counts_unfiltered_internal/cells_x_genes from BUS file sample4/output_internal.unfiltered.bus\n",
      "[2024-01-26 19:47:44,603]    INFO [count] Writing gene names to file sample4/counts_unfiltered_internal/cells_x_genes.genes.names.txt\n",
      "[2024-01-26 19:47:44,756] WARNING [count] 1599 gene IDs do not have corresponding valid gene names. These genes will use their gene IDs instead.\n",
      "[2024-01-26 19:47:44,767]    INFO [count] Reading matrix sample4/counts_unfiltered_internal/cells_x_genes.mtx\n",
      "[2024-01-26 19:47:47,753]    INFO [count] Writing matrix to h5ad sample4/counts_unfiltered_internal/adata.h5ad\n",
      "[2024-01-26 19:47:47,788]    INFO [count] Capturing records from BUS file sample4/output.unfiltered.bus to sample4/output_umi.bus with capture list sample4/capture_nonUMI.txt\n",
      "[2024-01-26 19:47:52,123]    INFO [count] Inspecting BUS file sample4/output_umi.bus\n",
      "[2024-01-26 19:47:53,544]    INFO [count] Sorting BUS file sample4/output_umi.bus to sample4/output_umi.unfiltered.bus\n",
      "[2024-01-26 19:47:57,674]    INFO [count] Generating count matrix sample4/counts_unfiltered_umi/cells_x_genes from BUS file sample4/output_umi.unfiltered.bus\n",
      "[2024-01-26 19:48:10,763]    INFO [count] Writing gene names to file sample4/counts_unfiltered_umi/cells_x_genes.genes.names.txt\n",
      "[2024-01-26 19:48:10,879] WARNING [count] 1599 gene IDs do not have corresponding valid gene names. These genes will use their gene IDs instead.\n",
      "[2024-01-26 19:48:10,892]    INFO [count] Reading matrix sample4/counts_unfiltered_umi/cells_x_genes.mtx\n",
      "[2024-01-26 19:48:14,376]    INFO [count] Writing matrix to h5ad sample4/counts_unfiltered_umi/adata.h5ad\n"
     ]
    }
   ],
   "source": [
    "###SAMPLE4\n",
    "!kb count -i index.idx -g t2g.txt -x SMARTSEQ3 -o sample4 --h5ad\\\n",
    "/home/ilosz01/Documents/single_cell_sequencing/data/sample4/P28606_1001_S14_I1_001.fastq.gz \\\n",
    "/home/ilosz01/Documents/single_cell_sequencing/data/sample4/P28606_1001_S14_I2_001.fastq.gz \\\n",
    "/home/ilosz01/Documents/single_cell_sequencing/data/sample4/P28606_1001_S14_R1_001.fastq.gz \\\n",
    "/home/ilosz01/Documents/single_cell_sequencing/data/sample4/P28606_1001_S14_R2_001.fastq.gz "
   ]
  },
  {
   "cell_type": "code",
   "execution_count": 9,
   "id": "18061a80",
   "metadata": {},
   "outputs": [
    {
     "name": "stdout",
     "output_type": "stream",
     "text": [
      "[2024-01-26 20:10:01,238]    INFO [count] Using index index.idx to generate BUS file to sample5 from\n",
      "[2024-01-26 20:10:01,239]    INFO [count]         /home/ilosz01/Documents/single_cell_sequencing/data/sample5/P28606_1002_S15_I1_001.fastq.gz\n",
      "[2024-01-26 20:10:01,239]    INFO [count]         /home/ilosz01/Documents/single_cell_sequencing/data/sample5/P28606_1002_S15_I2_001.fastq.gz\n",
      "[2024-01-26 20:10:01,239]    INFO [count]         /home/ilosz01/Documents/single_cell_sequencing/data/sample5/P28606_1002_S15_R1_001.fastq.gz\n",
      "[2024-01-26 20:10:01,239]    INFO [count]         /home/ilosz01/Documents/single_cell_sequencing/data/sample5/P28606_1002_S15_R2_001.fastq.gz\n",
      "[2024-01-26 20:29:21,928]    INFO [count] Sorting BUS file sample5/output.bus to sample5/tmp/output.s.bus\n",
      "[2024-01-26 20:29:37,671]    INFO [count] On-list not provided\n",
      "[2024-01-26 20:29:37,672]    INFO [count] Generating on-list sample5/whitelist.txt from BUS file sample5/tmp/output.s.bus\n",
      "[2024-01-26 20:29:38,987]    INFO [count] Inspecting BUS file sample5/tmp/output.s.bus\n",
      "[2024-01-26 20:29:40,501]    INFO [count] Correcting BUS records in sample5/tmp/output.s.bus to sample5/tmp/output.s.c.bus with on-list sample5/whitelist.txt\n",
      "[2024-01-26 20:29:44,021]    INFO [count] Sorting BUS file sample5/tmp/output.s.c.bus to sample5/output.unfiltered.bus\n",
      "[2024-01-26 20:29:48,244]    INFO [count] Capturing records from BUS file sample5/output.unfiltered.bus to sample5/output_internal.bus with capture list sample5/capture_nonUMI.txt\n",
      "[2024-01-26 20:29:51,072]    INFO [count] Inspecting BUS file sample5/output_internal.bus\n",
      "[2024-01-26 20:29:52,186]    INFO [count] Sorting BUS file sample5/output_internal.bus to sample5/output_internal.unfiltered.bus\n",
      "[2024-01-26 20:29:54,300]    INFO [count] Generating count matrix sample5/counts_unfiltered_internal/cells_x_genes from BUS file sample5/output_internal.unfiltered.bus\n",
      "[2024-01-26 20:30:01,617]    INFO [count] Writing gene names to file sample5/counts_unfiltered_internal/cells_x_genes.genes.names.txt\n",
      "[2024-01-26 20:30:01,772] WARNING [count] 1599 gene IDs do not have corresponding valid gene names. These genes will use their gene IDs instead.\n",
      "[2024-01-26 20:30:01,782]    INFO [count] Reading matrix sample5/counts_unfiltered_internal/cells_x_genes.mtx\n",
      "[2024-01-26 20:30:05,575]    INFO [count] Writing matrix to h5ad sample5/counts_unfiltered_internal/adata.h5ad\n",
      "[2024-01-26 20:30:05,617]    INFO [count] Capturing records from BUS file sample5/output.unfiltered.bus to sample5/output_umi.bus with capture list sample5/capture_nonUMI.txt\n",
      "[2024-01-26 20:30:09,455]    INFO [count] Inspecting BUS file sample5/output_umi.bus\n",
      "[2024-01-26 20:30:10,877]    INFO [count] Sorting BUS file sample5/output_umi.bus to sample5/output_umi.unfiltered.bus\n",
      "[2024-01-26 20:30:14,505]    INFO [count] Generating count matrix sample5/counts_unfiltered_umi/cells_x_genes from BUS file sample5/output_umi.unfiltered.bus\n",
      "[2024-01-26 20:30:25,716]    INFO [count] Writing gene names to file sample5/counts_unfiltered_umi/cells_x_genes.genes.names.txt\n",
      "[2024-01-26 20:30:25,834] WARNING [count] 1599 gene IDs do not have corresponding valid gene names. These genes will use their gene IDs instead.\n",
      "[2024-01-26 20:30:25,847]    INFO [count] Reading matrix sample5/counts_unfiltered_umi/cells_x_genes.mtx\n",
      "[2024-01-26 20:30:29,389]    INFO [count] Writing matrix to h5ad sample5/counts_unfiltered_umi/adata.h5ad\n"
     ]
    }
   ],
   "source": [
    "###SAMPLE5\n",
    "!kb count -i index.idx -g t2g.txt -x SMARTSEQ3 -o sample5 --h5ad\\\n",
    "/home/ilosz01/Documents/single_cell_sequencing/data/sample5/P28606_1002_S15_I1_001.fastq.gz \\\n",
    "/home/ilosz01/Documents/single_cell_sequencing/data/sample5/P28606_1002_S15_I2_001.fastq.gz \\\n",
    "/home/ilosz01/Documents/single_cell_sequencing/data/sample5/P28606_1002_S15_R1_001.fastq.gz \\\n",
    "/home/ilosz01/Documents/single_cell_sequencing/data/sample5/P28606_1002_S15_R2_001.fastq.gz "
   ]
  },
  {
   "cell_type": "code",
   "execution_count": 1,
   "id": "aa342f6c",
   "metadata": {},
   "outputs": [
    {
     "name": "stdout",
     "output_type": "stream",
     "text": [
      "[2024-01-30 23:40:57,695]    INFO [count] Using index index.idx to generate BUS file to sample6 from\n",
      "[2024-01-30 23:40:57,696]    INFO [count]         /home/ilosz01/Documents/single_cell_sequencing/data/sample6/P29910_1001_S5_I1_001.fastq.gz\n",
      "[2024-01-30 23:40:57,696]    INFO [count]         /home/ilosz01/Documents/single_cell_sequencing/data/sample6/P29910_1001_S5_I2_001.fastq.gz\n",
      "[2024-01-30 23:40:57,696]    INFO [count]         /home/ilosz01/Documents/single_cell_sequencing/data/sample6/P29910_1001_S5_R1_001.fastq.gz\n",
      "[2024-01-30 23:40:57,696]    INFO [count]         /home/ilosz01/Documents/single_cell_sequencing/data/sample6/P29910_1001_S5_R2_001.fastq.gz\n",
      "[2024-01-30 23:56:54,139]    INFO [count] Sorting BUS file sample6/output.bus to sample6/tmp/output.s.bus\n",
      "[2024-01-30 23:57:07,074]    INFO [count] On-list not provided\n",
      "[2024-01-30 23:57:07,075]    INFO [count] Generating on-list sample6/whitelist.txt from BUS file sample6/tmp/output.s.bus\n",
      "[2024-01-30 23:57:08,291]    INFO [count] Inspecting BUS file sample6/tmp/output.s.bus\n",
      "[2024-01-30 23:57:09,708]    INFO [count] Correcting BUS records in sample6/tmp/output.s.bus to sample6/tmp/output.s.c.bus with on-list sample6/whitelist.txt\n",
      "[2024-01-30 23:57:12,829]    INFO [count] Sorting BUS file sample6/tmp/output.s.c.bus to sample6/output.unfiltered.bus\n",
      "[2024-01-30 23:57:16,546]    INFO [count] Capturing records from BUS file sample6/output.unfiltered.bus to sample6/output_internal.bus with capture list sample6/capture_nonUMI.txt\n",
      "[2024-01-30 23:57:19,272]    INFO [count] Inspecting BUS file sample6/output_internal.bus\n",
      "[2024-01-30 23:57:20,381]    INFO [count] Sorting BUS file sample6/output_internal.bus to sample6/output_internal.unfiltered.bus\n",
      "[2024-01-30 23:57:22,393]    INFO [count] Generating count matrix sample6/counts_unfiltered_internal/cells_x_genes from BUS file sample6/output_internal.unfiltered.bus\n",
      "[2024-01-30 23:57:27,879]    INFO [count] Writing gene names to file sample6/counts_unfiltered_internal/cells_x_genes.genes.names.txt\n",
      "[2024-01-30 23:57:28,026] WARNING [count] 1599 gene IDs do not have corresponding valid gene names. These genes will use their gene IDs instead.\n",
      "[2024-01-30 23:57:28,036]    INFO [count] Reading matrix sample6/counts_unfiltered_internal/cells_x_genes.mtx\n",
      "[2024-01-30 23:57:30,649]    INFO [count] Writing matrix to h5ad sample6/counts_unfiltered_internal/adata.h5ad\n",
      "[2024-01-30 23:57:30,678]    INFO [count] Capturing records from BUS file sample6/output.unfiltered.bus to sample6/output_umi.bus with capture list sample6/capture_nonUMI.txt\n",
      "[2024-01-30 23:57:34,505]    INFO [count] Inspecting BUS file sample6/output_umi.bus\n",
      "[2024-01-30 23:57:35,823]    INFO [count] Sorting BUS file sample6/output_umi.bus to sample6/output_umi.unfiltered.bus\n",
      "[2024-01-30 23:57:39,149]    INFO [count] Generating count matrix sample6/counts_unfiltered_umi/cells_x_genes from BUS file sample6/output_umi.unfiltered.bus\n",
      "[2024-01-30 23:57:48,649]    INFO [count] Writing gene names to file sample6/counts_unfiltered_umi/cells_x_genes.genes.names.txt\n",
      "[2024-01-30 23:57:48,763] WARNING [count] 1599 gene IDs do not have corresponding valid gene names. These genes will use their gene IDs instead.\n",
      "[2024-01-30 23:57:48,775]    INFO [count] Reading matrix sample6/counts_unfiltered_umi/cells_x_genes.mtx\n",
      "[2024-01-30 23:57:51,417]    INFO [count] Writing matrix to h5ad sample6/counts_unfiltered_umi/adata.h5ad\n"
     ]
    }
   ],
   "source": [
    "##SAMPLE6\n",
    "!kb count -i index.idx -g t2g.txt -x SMARTSEQ3 -o sample6 --h5ad\\\n",
    "/home/ilosz01/Documents/single_cell_sequencing/data/sample6/P29910_1001_S5_I1_001.fastq.gz \\\n",
    "/home/ilosz01/Documents/single_cell_sequencing/data/sample6/P29910_1001_S5_I2_001.fastq.gz \\\n",
    "/home/ilosz01/Documents/single_cell_sequencing/data/sample6/P29910_1001_S5_R1_001.fastq.gz \\\n",
    "/home/ilosz01/Documents/single_cell_sequencing/data/sample6/P29910_1001_S5_R2_001.fastq.gz"
   ]
  },
  {
   "cell_type": "code",
   "execution_count": 2,
   "id": "1502c9e7",
   "metadata": {},
   "outputs": [
    {
     "name": "stdout",
     "output_type": "stream",
     "text": [
      "[2024-01-30 23:57:57,182]    INFO [count] Using index index.idx to generate BUS file to sample7 from\n",
      "[2024-01-30 23:57:57,183]    INFO [count]         /home/ilosz01/Documents/single_cell_sequencing/data/sample7/P29910_1002_S6_I1_001.fastq.gz\n",
      "[2024-01-30 23:57:57,183]    INFO [count]         /home/ilosz01/Documents/single_cell_sequencing/data/sample7/P29910_1002_S6_I2_001.fastq.gz\n",
      "[2024-01-30 23:57:57,183]    INFO [count]         /home/ilosz01/Documents/single_cell_sequencing/data/sample7/P29910_1002_S6_R1_001.fastq.gz\n",
      "[2024-01-30 23:57:57,183]    INFO [count]         /home/ilosz01/Documents/single_cell_sequencing/data/sample7/P29910_1002_S6_R2_001.fastq.gz\n",
      "[2024-01-31 00:14:36,693]    INFO [count] Sorting BUS file sample7/output.bus to sample7/tmp/output.s.bus\n",
      "[2024-01-31 00:14:50,436]    INFO [count] On-list not provided\n",
      "[2024-01-31 00:14:50,436]    INFO [count] Generating on-list sample7/whitelist.txt from BUS file sample7/tmp/output.s.bus\n",
      "[2024-01-31 00:14:51,749]    INFO [count] Inspecting BUS file sample7/tmp/output.s.bus\n",
      "[2024-01-31 00:14:53,261]    INFO [count] Correcting BUS records in sample7/tmp/output.s.bus to sample7/tmp/output.s.c.bus with on-list sample7/whitelist.txt\n",
      "[2024-01-31 00:14:56,777]    INFO [count] Sorting BUS file sample7/tmp/output.s.c.bus to sample7/output.unfiltered.bus\n",
      "[2024-01-31 00:15:01,196]    INFO [count] Capturing records from BUS file sample7/output.unfiltered.bus to sample7/output_internal.bus with capture list sample7/capture_nonUMI.txt\n",
      "[2024-01-31 00:15:03,920]    INFO [count] Inspecting BUS file sample7/output_internal.bus\n",
      "[2024-01-31 00:15:05,032]    INFO [count] Sorting BUS file sample7/output_internal.bus to sample7/output_internal.unfiltered.bus\n",
      "[2024-01-31 00:15:06,946]    INFO [count] Generating count matrix sample7/counts_unfiltered_internal/cells_x_genes from BUS file sample7/output_internal.unfiltered.bus\n",
      "[2024-01-31 00:15:12,280]    INFO [count] Writing gene names to file sample7/counts_unfiltered_internal/cells_x_genes.genes.names.txt\n",
      "[2024-01-31 00:15:12,432] WARNING [count] 1599 gene IDs do not have corresponding valid gene names. These genes will use their gene IDs instead.\n",
      "[2024-01-31 00:15:12,442]    INFO [count] Reading matrix sample7/counts_unfiltered_internal/cells_x_genes.mtx\n",
      "[2024-01-31 00:15:14,961]    INFO [count] Writing matrix to h5ad sample7/counts_unfiltered_internal/adata.h5ad\n",
      "[2024-01-31 00:15:14,991]    INFO [count] Capturing records from BUS file sample7/output.unfiltered.bus to sample7/output_umi.bus with capture list sample7/capture_nonUMI.txt\n",
      "[2024-01-31 00:15:19,226]    INFO [count] Inspecting BUS file sample7/output_umi.bus\n",
      "[2024-01-31 00:15:20,643]    INFO [count] Sorting BUS file sample7/output_umi.bus to sample7/output_umi.unfiltered.bus\n",
      "[2024-01-31 00:15:24,566]    INFO [count] Generating count matrix sample7/counts_unfiltered_umi/cells_x_genes from BUS file sample7/output_umi.unfiltered.bus\n",
      "[2024-01-31 00:15:36,673]    INFO [count] Writing gene names to file sample7/counts_unfiltered_umi/cells_x_genes.genes.names.txt\n",
      "[2024-01-31 00:15:36,787] WARNING [count] 1599 gene IDs do not have corresponding valid gene names. These genes will use their gene IDs instead.\n",
      "[2024-01-31 00:15:36,799]    INFO [count] Reading matrix sample7/counts_unfiltered_umi/cells_x_genes.mtx\n",
      "[2024-01-31 00:15:39,902]    INFO [count] Writing matrix to h5ad sample7/counts_unfiltered_umi/adata.h5ad\n"
     ]
    }
   ],
   "source": [
    "##SAMPLE7\n",
    "!kb count -i index.idx -g t2g.txt -x SMARTSEQ3 -o sample7 --h5ad\\\n",
    "/home/ilosz01/Documents/single_cell_sequencing/data/sample7/P29910_1002_S6_I1_001.fastq.gz \\\n",
    "/home/ilosz01/Documents/single_cell_sequencing/data/sample7/P29910_1002_S6_I2_001.fastq.gz \\\n",
    "/home/ilosz01/Documents/single_cell_sequencing/data/sample7/P29910_1002_S6_R1_001.fastq.gz \\\n",
    "/home/ilosz01/Documents/single_cell_sequencing/data/sample7/P29910_1002_S6_R2_001.fastq.gz"
   ]
  }
 ],
 "metadata": {
  "kernelspec": {
   "display_name": "Python 3 (ipykernel)",
   "language": "python",
   "name": "python3"
  },
  "language_info": {
   "codemirror_mode": {
    "name": "ipython",
    "version": 3
   },
   "file_extension": ".py",
   "mimetype": "text/x-python",
   "name": "python",
   "nbconvert_exporter": "python",
   "pygments_lexer": "ipython3",
   "version": "3.8.0"
  }
 },
 "nbformat": 4,
 "nbformat_minor": 5
}
