{
 "cells": [
  {
   "cell_type": "markdown",
   "id": "43124cac",
   "metadata": {},
   "source": [
    "# Single Cell Sequencing : kallisto readout\n",
    "\n",
    "It includes reading from fastq files using Kallisto (for that the mouse index of genes is required).\n",
    "\n",
    "\n",
    "\n",
    "IMPORTANT: AFTER RUNNING THIS, AND BEFORE GOING TO QUALITY CONTROL SOME OF THE .TXT FILES NEED TO HAVE A MANUAL MODIFICATION SO THEY CAN ME READ AS A PANDAS STRUCTURE LATER! I WILL SHOW THIS MANUALLY<br>\n",
    "https://www.kallistobus.tools/tutorials/download_data/data_download/"
   ]
  },
  {
   "cell_type": "code",
   "execution_count": 1,
   "id": "d23706c6",
   "metadata": {},
   "outputs": [
    {
     "name": "stdout",
     "output_type": "stream",
     "text": [
      "[2024-03-21 11:27:27,187]    INFO [download] Skipping download because some files already exist. Use the --overwrite flag to overwrite.\n"
     ]
    }
   ],
   "source": [
    "### For comparing your sequencing with the already known genome you need to download the apropiate gene atlas (only once)\n",
    "### Use kallisto to download mouse index here\n",
    "\n",
    "!kb ref -d mouse -i index.idx -g t2g.txt"
   ]
  },
  {
   "cell_type": "code",
   "execution_count": null,
   "id": "22f2cd7a",
   "metadata": {},
   "outputs": [],
   "source": [
    "###SAMPLE1\n",
    "\n",
    "# This step runs `kb` to pseudoalign the reads, and then generate the cells x gene matrix in h5ad format.\n",
    "### genrealal structure:\n",
    "# index.idx and t2g.txt are files that were downloaded on the previous cell. They refer to the gene atlas\n",
    "# -x is the input to the sequencing technique that was use. Kallisto supports multiple sequencing techniques\n",
    "# (check kb --list for more information)\n",
    "# SMARTSEQ3 is the method we used for this sequencing\n",
    "# (this sequencing format requires 4 files to be processed togehter, to put all of them as inputs)\n",
    "# the 4 files have always names x_I1_001.fastq.gz, x_I2_001.fastq.gz, x_R1_001.fastq.gz and x_R2_001.fastq.gz\n",
    "# --h4ad is the desired output format. If loom file is prefered, just changed it there. "
   ]
  },
  {
   "cell_type": "code",
   "execution_count": 2,
   "id": "c7cba5e4",
   "metadata": {},
   "outputs": [
    {
     "name": "stdout",
     "output_type": "stream",
     "text": [
      "[2024-03-21 11:29:19,698]    INFO [count] Using index index.idx to generate BUS file to sample1 from\n",
      "[2024-03-21 11:29:19,699]    INFO [count]         /home/ilosz01/Documents/single_cell_sequencing/data/sample1/P28203_5007_S7_I1_001.fastq.gz\n",
      "[2024-03-21 11:29:19,699]    INFO [count]         /home/ilosz01/Documents/single_cell_sequencing/data/sample1/P28203_5007_S7_I2_001.fastq.gz\n",
      "[2024-03-21 11:29:19,699]    INFO [count]         /home/ilosz01/Documents/single_cell_sequencing/data/sample1/P28203_5007_S7_R1_001.fastq.gz\n",
      "[2024-03-21 11:29:19,699]    INFO [count]         /home/ilosz01/Documents/single_cell_sequencing/data/sample1/P28203_5007_S7_R2_001.fastq.gz\n",
      "[2024-03-21 11:48:18,879]    INFO [count] Sorting BUS file sample1/output.bus to sample1/tmp/output.s.bus\n",
      "[2024-03-21 11:48:34,519]    INFO [count] On-list not provided\n",
      "[2024-03-21 11:48:34,520]    INFO [count] Generating on-list sample1/whitelist.txt from BUS file sample1/tmp/output.s.bus\n",
      "[2024-03-21 11:48:35,736]    INFO [count] Inspecting BUS file sample1/tmp/output.s.bus\n",
      "[2024-03-21 11:48:37,154]    INFO [count] Correcting BUS records in sample1/tmp/output.s.bus to sample1/tmp/output.s.c.bus with on-list sample1/whitelist.txt\n",
      "[2024-03-21 11:48:40,675]    INFO [count] Sorting BUS file sample1/tmp/output.s.c.bus to sample1/output.unfiltered.bus\n",
      "[2024-03-21 11:48:44,697]    INFO [count] Capturing records from BUS file sample1/output.unfiltered.bus to sample1/output_internal.bus with capture list sample1/capture_nonUMI.txt\n",
      "[2024-03-21 11:48:47,433]    INFO [count] Inspecting BUS file sample1/output_internal.bus\n",
      "[2024-03-21 11:48:48,550]    INFO [count] Sorting BUS file sample1/output_internal.bus to sample1/output_internal.unfiltered.bus\n",
      "[2024-03-21 11:48:50,577]    INFO [count] Generating count matrix sample1/counts_unfiltered_internal/cells_x_genes from BUS file sample1/output_internal.unfiltered.bus\n",
      "[2024-03-21 11:48:56,348]    INFO [count] Writing gene names to file sample1/counts_unfiltered_internal/cells_x_genes.genes.names.txt\n",
      "[2024-03-21 11:48:56,468] WARNING [count] 1599 gene IDs do not have corresponding valid gene names. These genes will use their gene IDs instead.\n",
      "[2024-03-21 11:48:56,478]    INFO [count] Reading matrix sample1/counts_unfiltered_internal/cells_x_genes.mtx\n",
      "[2024-03-21 11:48:59,229]    INFO [count] Writing matrix to h5ad sample1/counts_unfiltered_internal/adata.h5ad\n",
      "[2024-03-21 11:48:59,260]    INFO [count] Capturing records from BUS file sample1/output.unfiltered.bus to sample1/output_umi.bus with capture list sample1/capture_nonUMI.txt\n",
      "[2024-03-21 11:49:03,097]    INFO [count] Inspecting BUS file sample1/output_umi.bus\n",
      "[2024-03-21 11:49:04,420]    INFO [count] Sorting BUS file sample1/output_umi.bus to sample1/output_umi.unfiltered.bus\n",
      "[2024-03-21 11:49:07,746]    INFO [count] Generating count matrix sample1/counts_unfiltered_umi/cells_x_genes from BUS file sample1/output_umi.unfiltered.bus\n",
      "[2024-03-21 11:49:17,016]    INFO [count] Writing gene names to file sample1/counts_unfiltered_umi/cells_x_genes.genes.names.txt\n",
      "[2024-03-21 11:49:17,132] WARNING [count] 1599 gene IDs do not have corresponding valid gene names. These genes will use their gene IDs instead.\n",
      "[2024-03-21 11:49:17,144]    INFO [count] Reading matrix sample1/counts_unfiltered_umi/cells_x_genes.mtx\n",
      "[2024-03-21 11:49:19,703]    INFO [count] Writing matrix to h5ad sample1/counts_unfiltered_umi/adata.h5ad\n"
     ]
    }
   ],
   "source": [
    "###SAMPLE1\n",
    "!kb count -i index.idx -g t2g.txt -x SMARTSEQ3 -o sample1 --h5ad\\\n",
    "/home/ilosz01/Documents/single_cell_sequencing/data/sample1/P28203_5007_S7_I1_001.fastq.gz \\\n",
    "/home/ilosz01/Documents/single_cell_sequencing/data/sample1/P28203_5007_S7_I2_001.fastq.gz \\\n",
    "/home/ilosz01/Documents/single_cell_sequencing/data/sample1/P28203_5007_S7_R1_001.fastq.gz \\\n",
    "/home/ilosz01/Documents/single_cell_sequencing/data/sample1/P28203_5007_S7_R2_001.fastq.gz "
   ]
  },
  {
   "cell_type": "code",
   "execution_count": 3,
   "id": "3d571679",
   "metadata": {},
   "outputs": [
    {
     "name": "stdout",
     "output_type": "stream",
     "text": [
      "[2024-03-21 11:49:34,733]    INFO [count] Using index index.idx to generate BUS file to sample2 from\n",
      "[2024-03-21 11:49:34,734]    INFO [count]         /home/ilosz01/Documents/single_cell_sequencing/data/sample2/P28605_8001_S1_I1_001.fastq.gz\n",
      "[2024-03-21 11:49:34,734]    INFO [count]         /home/ilosz01/Documents/single_cell_sequencing/data/sample2/P28605_8001_S1_I2_001.fastq.gz\n",
      "[2024-03-21 11:49:34,734]    INFO [count]         /home/ilosz01/Documents/single_cell_sequencing/data/sample2/P28605_8001_S1_R1_001.fastq.gz\n",
      "[2024-03-21 11:49:34,734]    INFO [count]         /home/ilosz01/Documents/single_cell_sequencing/data/sample2/P28605_8001_S1_R2_001.fastq.gz\n",
      "[2024-03-21 12:16:41,725]    INFO [count] Sorting BUS file sample2/output.bus to sample2/tmp/output.s.bus\n",
      "[2024-03-21 12:17:06,393]    INFO [count] On-list not provided\n",
      "[2024-03-21 12:17:06,393]    INFO [count] Generating on-list sample2/whitelist.txt from BUS file sample2/tmp/output.s.bus\n",
      "[2024-03-21 12:17:07,713]    INFO [count] Inspecting BUS file sample2/tmp/output.s.bus\n",
      "[2024-03-21 12:17:09,336]    INFO [count] Correcting BUS records in sample2/tmp/output.s.bus to sample2/tmp/output.s.c.bus with on-list sample2/whitelist.txt\n",
      "[2024-03-21 12:17:13,963]    INFO [count] Sorting BUS file sample2/tmp/output.s.c.bus to sample2/output.unfiltered.bus\n",
      "[2024-03-21 12:17:26,408]    INFO [count] Capturing records from BUS file sample2/output.unfiltered.bus to sample2/output_internal.bus with capture list sample2/capture_nonUMI.txt\n",
      "[2024-03-21 12:17:29,459]    INFO [count] Inspecting BUS file sample2/output_internal.bus\n",
      "[2024-03-21 12:17:30,577]    INFO [count] Sorting BUS file sample2/output_internal.bus to sample2/output_internal.unfiltered.bus\n",
      "[2024-03-21 12:17:32,803]    INFO [count] Generating count matrix sample2/counts_unfiltered_internal/cells_x_genes from BUS file sample2/output_internal.unfiltered.bus\n",
      "[2024-03-21 12:17:39,706]    INFO [count] Writing gene names to file sample2/counts_unfiltered_internal/cells_x_genes.genes.names.txt\n",
      "[2024-03-21 12:17:39,829] WARNING [count] 1599 gene IDs do not have corresponding valid gene names. These genes will use their gene IDs instead.\n",
      "[2024-03-21 12:17:39,839]    INFO [count] Reading matrix sample2/counts_unfiltered_internal/cells_x_genes.mtx\n",
      "[2024-03-21 12:17:43,213]    INFO [count] Writing matrix to h5ad sample2/counts_unfiltered_internal/adata.h5ad\n",
      "[2024-03-21 12:17:43,250]    INFO [count] Capturing records from BUS file sample2/output.unfiltered.bus to sample2/output_umi.bus with capture list sample2/capture_nonUMI.txt\n",
      "[2024-03-21 12:17:47,900]    INFO [count] Inspecting BUS file sample2/output_umi.bus\n",
      "[2024-03-21 12:17:49,426]    INFO [count] Sorting BUS file sample2/output_umi.bus to sample2/output_umi.unfiltered.bus\n",
      "[2024-03-21 12:17:53,759]    INFO [count] Generating count matrix sample2/counts_unfiltered_umi/cells_x_genes from BUS file sample2/output_umi.unfiltered.bus\n",
      "[2024-03-21 12:18:06,961]    INFO [count] Writing gene names to file sample2/counts_unfiltered_umi/cells_x_genes.genes.names.txt\n",
      "[2024-03-21 12:18:07,077] WARNING [count] 1599 gene IDs do not have corresponding valid gene names. These genes will use their gene IDs instead.\n",
      "[2024-03-21 12:18:07,089]    INFO [count] Reading matrix sample2/counts_unfiltered_umi/cells_x_genes.mtx\n",
      "[2024-03-21 12:18:10,412]    INFO [count] Writing matrix to h5ad sample2/counts_unfiltered_umi/adata.h5ad\n"
     ]
    }
   ],
   "source": [
    "###SAMPLE2\n",
    "!kb count -i index.idx -g t2g.txt -x SMARTSEQ3 -o sample2 --h5ad\\\n",
    "/home/ilosz01/Documents/single_cell_sequencing/data/sample2/P28605_8001_S1_I1_001.fastq.gz \\\n",
    "/home/ilosz01/Documents/single_cell_sequencing/data/sample2/P28605_8001_S1_I2_001.fastq.gz \\\n",
    "/home/ilosz01/Documents/single_cell_sequencing/data/sample2/P28605_8001_S1_R1_001.fastq.gz \\\n",
    "/home/ilosz01/Documents/single_cell_sequencing/data/sample2/P28605_8001_S1_R2_001.fastq.gz "
   ]
  },
  {
   "cell_type": "code",
   "execution_count": 4,
   "id": "8462b905",
   "metadata": {},
   "outputs": [
    {
     "name": "stdout",
     "output_type": "stream",
     "text": [
      "[2024-03-21 12:18:17,965]    INFO [count] Using index index.idx to generate BUS file to sample3 from\n",
      "[2024-03-21 12:18:17,965]    INFO [count]         /home/ilosz01/Documents/single_cell_sequencing/data/sample3/P29058_6012_S12_I1_001.fastq.gz\n",
      "[2024-03-21 12:18:17,965]    INFO [count]         /home/ilosz01/Documents/single_cell_sequencing/data/sample3/P29058_6012_S12_I2_001.fastq.gz\n",
      "[2024-03-21 12:18:17,965]    INFO [count]         /home/ilosz01/Documents/single_cell_sequencing/data/sample3/P29058_6012_S12_R1_001.fastq.gz\n",
      "[2024-03-21 12:18:17,965]    INFO [count]         /home/ilosz01/Documents/single_cell_sequencing/data/sample3/P29058_6012_S12_R2_001.fastq.gz\n",
      "[2024-03-21 12:35:33,172]    INFO [count] Sorting BUS file sample3/output.bus to sample3/tmp/output.s.bus\n",
      "[2024-03-21 12:35:47,825]    INFO [count] On-list not provided\n",
      "[2024-03-21 12:35:47,826]    INFO [count] Generating on-list sample3/whitelist.txt from BUS file sample3/tmp/output.s.bus\n",
      "[2024-03-21 12:35:49,144]    INFO [count] Inspecting BUS file sample3/tmp/output.s.bus\n",
      "[2024-03-21 12:35:50,568]    INFO [count] Correcting BUS records in sample3/tmp/output.s.bus to sample3/tmp/output.s.c.bus with on-list sample3/whitelist.txt\n",
      "[2024-03-21 12:35:54,088]    INFO [count] Sorting BUS file sample3/tmp/output.s.c.bus to sample3/output.unfiltered.bus\n",
      "[2024-03-21 12:35:57,814]    INFO [count] Capturing records from BUS file sample3/output.unfiltered.bus to sample3/output_internal.bus with capture list sample3/capture_nonUMI.txt\n",
      "[2024-03-21 12:36:00,554]    INFO [count] Inspecting BUS file sample3/output_internal.bus\n",
      "[2024-03-21 12:36:01,674]    INFO [count] Sorting BUS file sample3/output_internal.bus to sample3/output_internal.unfiltered.bus\n",
      "[2024-03-21 12:36:03,696]    INFO [count] Generating count matrix sample3/counts_unfiltered_internal/cells_x_genes from BUS file sample3/output_internal.unfiltered.bus\n",
      "[2024-03-21 12:36:09,960]    INFO [count] Writing gene names to file sample3/counts_unfiltered_internal/cells_x_genes.genes.names.txt\n",
      "[2024-03-21 12:36:10,079] WARNING [count] 1599 gene IDs do not have corresponding valid gene names. These genes will use their gene IDs instead.\n",
      "[2024-03-21 12:36:10,089]    INFO [count] Reading matrix sample3/counts_unfiltered_internal/cells_x_genes.mtx\n",
      "[2024-03-21 12:36:13,161]    INFO [count] Writing matrix to h5ad sample3/counts_unfiltered_internal/adata.h5ad\n",
      "[2024-03-21 12:36:13,195]    INFO [count] Capturing records from BUS file sample3/output.unfiltered.bus to sample3/output_umi.bus with capture list sample3/capture_nonUMI.txt\n",
      "[2024-03-21 12:36:16,741]    INFO [count] Inspecting BUS file sample3/output_umi.bus\n",
      "[2024-03-21 12:36:18,070]    INFO [count] Sorting BUS file sample3/output_umi.bus to sample3/output_umi.unfiltered.bus\n",
      "[2024-03-21 12:36:21,199]    INFO [count] Generating count matrix sample3/counts_unfiltered_umi/cells_x_genes from BUS file sample3/output_umi.unfiltered.bus\n",
      "[2024-03-21 12:36:30,283]    INFO [count] Writing gene names to file sample3/counts_unfiltered_umi/cells_x_genes.genes.names.txt\n",
      "[2024-03-21 12:36:30,400] WARNING [count] 1599 gene IDs do not have corresponding valid gene names. These genes will use their gene IDs instead.\n",
      "[2024-03-21 12:36:30,411]    INFO [count] Reading matrix sample3/counts_unfiltered_umi/cells_x_genes.mtx\n",
      "[2024-03-21 12:36:33,299]    INFO [count] Writing matrix to h5ad sample3/counts_unfiltered_umi/adata.h5ad\n"
     ]
    }
   ],
   "source": [
    "###SAMPLE3\n",
    "!kb count -i index.idx -g t2g.txt -x SMARTSEQ3 -o sample3 --h5ad\\\n",
    "/home/ilosz01/Documents/single_cell_sequencing/data/sample3/P29058_6012_S12_I1_001.fastq.gz \\\n",
    "/home/ilosz01/Documents/single_cell_sequencing/data/sample3/P29058_6012_S12_I2_001.fastq.gz \\\n",
    "/home/ilosz01/Documents/single_cell_sequencing/data/sample3/P29058_6012_S12_R1_001.fastq.gz \\\n",
    "/home/ilosz01/Documents/single_cell_sequencing/data/sample3/P29058_6012_S12_R2_001.fastq.gz "
   ]
  },
  {
   "cell_type": "code",
   "execution_count": 5,
   "id": "4cb816c0",
   "metadata": {},
   "outputs": [
    {
     "name": "stdout",
     "output_type": "stream",
     "text": [
      "[2024-03-21 13:31:21,601]    INFO [count] Using index index.idx to generate BUS file to sample4 from\n",
      "[2024-03-21 13:31:21,602]    INFO [count]         /home/ilosz01/Documents/single_cell_sequencing/data/sample4/P28606_1001_S14_I1_001.fastq.gz\n",
      "[2024-03-21 13:31:21,602]    INFO [count]         /home/ilosz01/Documents/single_cell_sequencing/data/sample4/P28606_1001_S14_I2_001.fastq.gz\n",
      "[2024-03-21 13:31:21,602]    INFO [count]         /home/ilosz01/Documents/single_cell_sequencing/data/sample4/P28606_1001_S14_R1_001.fastq.gz\n",
      "[2024-03-21 13:31:21,602]    INFO [count]         /home/ilosz01/Documents/single_cell_sequencing/data/sample4/P28606_1001_S14_R2_001.fastq.gz\n",
      "[2024-03-21 13:51:53,743]    INFO [count] Sorting BUS file sample4/output.bus to sample4/tmp/output.s.bus\n",
      "[2024-03-21 13:52:12,996]    INFO [count] On-list not provided\n",
      "[2024-03-21 13:52:12,996]    INFO [count] Generating on-list sample4/whitelist.txt from BUS file sample4/tmp/output.s.bus\n",
      "[2024-03-21 13:52:14,315]    INFO [count] Inspecting BUS file sample4/tmp/output.s.bus\n",
      "[2024-03-21 13:52:15,838]    INFO [count] Correcting BUS records in sample4/tmp/output.s.bus to sample4/tmp/output.s.c.bus with on-list sample4/whitelist.txt\n",
      "[2024-03-21 13:52:20,767]    INFO [count] Sorting BUS file sample4/tmp/output.s.c.bus to sample4/output.unfiltered.bus\n",
      "[2024-03-21 13:52:25,496]    INFO [count] Capturing records from BUS file sample4/output.unfiltered.bus to sample4/output_internal.bus with capture list sample4/capture_nonUMI.txt\n",
      "[2024-03-21 13:52:28,342]    INFO [count] Inspecting BUS file sample4/output_internal.bus\n",
      "[2024-03-21 13:52:29,463]    INFO [count] Sorting BUS file sample4/output_internal.bus to sample4/output_internal.unfiltered.bus\n",
      "[2024-03-21 13:52:31,485]    INFO [count] Generating count matrix sample4/counts_unfiltered_internal/cells_x_genes from BUS file sample4/output_internal.unfiltered.bus\n",
      "[2024-03-21 13:52:37,566]    INFO [count] Writing gene names to file sample4/counts_unfiltered_internal/cells_x_genes.genes.names.txt\n",
      "[2024-03-21 13:52:37,685] WARNING [count] 1599 gene IDs do not have corresponding valid gene names. These genes will use their gene IDs instead.\n",
      "[2024-03-21 13:52:37,695]    INFO [count] Reading matrix sample4/counts_unfiltered_internal/cells_x_genes.mtx\n",
      "[2024-03-21 13:52:40,716]    INFO [count] Writing matrix to h5ad sample4/counts_unfiltered_internal/adata.h5ad\n",
      "[2024-03-21 13:52:40,751]    INFO [count] Capturing records from BUS file sample4/output.unfiltered.bus to sample4/output_umi.bus with capture list sample4/capture_nonUMI.txt\n",
      "[2024-03-21 13:52:45,102]    INFO [count] Inspecting BUS file sample4/output_umi.bus\n",
      "[2024-03-21 13:52:46,527]    INFO [count] Sorting BUS file sample4/output_umi.bus to sample4/output_umi.unfiltered.bus\n",
      "[2024-03-21 13:52:50,651]    INFO [count] Generating count matrix sample4/counts_unfiltered_umi/cells_x_genes from BUS file sample4/output_umi.unfiltered.bus\n",
      "[2024-03-21 13:53:03,544]    INFO [count] Writing gene names to file sample4/counts_unfiltered_umi/cells_x_genes.genes.names.txt\n",
      "[2024-03-21 13:53:03,658] WARNING [count] 1599 gene IDs do not have corresponding valid gene names. These genes will use their gene IDs instead.\n",
      "[2024-03-21 13:53:03,670]    INFO [count] Reading matrix sample4/counts_unfiltered_umi/cells_x_genes.mtx\n",
      "[2024-03-21 13:53:07,152]    INFO [count] Writing matrix to h5ad sample4/counts_unfiltered_umi/adata.h5ad\n"
     ]
    }
   ],
   "source": [
    "###SAMPLE4\n",
    "!kb count -i index.idx -g t2g.txt -x SMARTSEQ3 -o sample4 --h5ad\\\n",
    "/home/ilosz01/Documents/single_cell_sequencing/data/sample4/P28606_1001_S14_I1_001.fastq.gz \\\n",
    "/home/ilosz01/Documents/single_cell_sequencing/data/sample4/P28606_1001_S14_I2_001.fastq.gz \\\n",
    "/home/ilosz01/Documents/single_cell_sequencing/data/sample4/P28606_1001_S14_R1_001.fastq.gz \\\n",
    "/home/ilosz01/Documents/single_cell_sequencing/data/sample4/P28606_1001_S14_R2_001.fastq.gz "
   ]
  },
  {
   "cell_type": "code",
   "execution_count": 6,
   "id": "18061a80",
   "metadata": {},
   "outputs": [
    {
     "name": "stdout",
     "output_type": "stream",
     "text": [
      "[2024-03-21 13:56:33,597]    INFO [count] Using index index.idx to generate BUS file to sample5 from\n",
      "[2024-03-21 13:56:33,597]    INFO [count]         /home/ilosz01/Documents/single_cell_sequencing/data/sample5/P28606_1002_S15_I1_001.fastq.gz\n",
      "[2024-03-21 13:56:33,598]    INFO [count]         /home/ilosz01/Documents/single_cell_sequencing/data/sample5/P28606_1002_S15_I2_001.fastq.gz\n",
      "[2024-03-21 13:56:33,598]    INFO [count]         /home/ilosz01/Documents/single_cell_sequencing/data/sample5/P28606_1002_S15_R1_001.fastq.gz\n",
      "[2024-03-21 13:56:33,598]    INFO [count]         /home/ilosz01/Documents/single_cell_sequencing/data/sample5/P28606_1002_S15_R2_001.fastq.gz\n",
      "[2024-03-21 14:15:16,238]    INFO [count] Sorting BUS file sample5/output.bus to sample5/tmp/output.s.bus\n",
      "[2024-03-21 14:15:33,386]    INFO [count] On-list not provided\n",
      "[2024-03-21 14:15:33,386]    INFO [count] Generating on-list sample5/whitelist.txt from BUS file sample5/tmp/output.s.bus\n",
      "[2024-03-21 14:15:34,705]    INFO [count] Inspecting BUS file sample5/tmp/output.s.bus\n",
      "[2024-03-21 14:15:36,226]    INFO [count] Correcting BUS records in sample5/tmp/output.s.bus to sample5/tmp/output.s.c.bus with on-list sample5/whitelist.txt\n",
      "[2024-03-21 14:15:39,751]    INFO [count] Sorting BUS file sample5/tmp/output.s.c.bus to sample5/output.unfiltered.bus\n",
      "[2024-03-21 14:15:43,981]    INFO [count] Capturing records from BUS file sample5/output.unfiltered.bus to sample5/output_internal.bus with capture list sample5/capture_nonUMI.txt\n",
      "[2024-03-21 14:15:46,827]    INFO [count] Inspecting BUS file sample5/output_internal.bus\n",
      "[2024-03-21 14:15:47,948]    INFO [count] Sorting BUS file sample5/output_internal.bus to sample5/output_internal.unfiltered.bus\n",
      "[2024-03-21 14:15:50,071]    INFO [count] Generating count matrix sample5/counts_unfiltered_internal/cells_x_genes from BUS file sample5/output_internal.unfiltered.bus\n",
      "[2024-03-21 14:15:57,440]    INFO [count] Writing gene names to file sample5/counts_unfiltered_internal/cells_x_genes.genes.names.txt\n",
      "[2024-03-21 14:15:57,558] WARNING [count] 1599 gene IDs do not have corresponding valid gene names. These genes will use their gene IDs instead.\n",
      "[2024-03-21 14:15:57,568]    INFO [count] Reading matrix sample5/counts_unfiltered_internal/cells_x_genes.mtx\n",
      "[2024-03-21 14:16:01,323]    INFO [count] Writing matrix to h5ad sample5/counts_unfiltered_internal/adata.h5ad\n",
      "[2024-03-21 14:16:01,364]    INFO [count] Capturing records from BUS file sample5/output.unfiltered.bus to sample5/output_umi.bus with capture list sample5/capture_nonUMI.txt\n",
      "[2024-03-21 14:16:05,707]    INFO [count] Inspecting BUS file sample5/output_umi.bus\n",
      "[2024-03-21 14:16:07,134]    INFO [count] Sorting BUS file sample5/output_umi.bus to sample5/output_umi.unfiltered.bus\n",
      "[2024-03-21 14:16:10,860]    INFO [count] Generating count matrix sample5/counts_unfiltered_umi/cells_x_genes from BUS file sample5/output_umi.unfiltered.bus\n",
      "[2024-03-21 14:16:22,678]    INFO [count] Writing gene names to file sample5/counts_unfiltered_umi/cells_x_genes.genes.names.txt\n",
      "[2024-03-21 14:16:22,814] WARNING [count] 1599 gene IDs do not have corresponding valid gene names. These genes will use their gene IDs instead.\n",
      "[2024-03-21 14:16:22,827]    INFO [count] Reading matrix sample5/counts_unfiltered_umi/cells_x_genes.mtx\n",
      "[2024-03-21 14:16:26,897]    INFO [count] Writing matrix to h5ad sample5/counts_unfiltered_umi/adata.h5ad\n"
     ]
    }
   ],
   "source": [
    "###SAMPLE5\n",
    "!kb count -i index.idx -g t2g.txt -x SMARTSEQ3 -o sample5 --h5ad\\\n",
    "/home/ilosz01/Documents/single_cell_sequencing/data/sample5/P28606_1002_S15_I1_001.fastq.gz \\\n",
    "/home/ilosz01/Documents/single_cell_sequencing/data/sample5/P28606_1002_S15_I2_001.fastq.gz \\\n",
    "/home/ilosz01/Documents/single_cell_sequencing/data/sample5/P28606_1002_S15_R1_001.fastq.gz \\\n",
    "/home/ilosz01/Documents/single_cell_sequencing/data/sample5/P28606_1002_S15_R2_001.fastq.gz "
   ]
  },
  {
   "cell_type": "code",
   "execution_count": 7,
   "id": "aa342f6c",
   "metadata": {},
   "outputs": [
    {
     "name": "stdout",
     "output_type": "stream",
     "text": [
      "[2024-03-21 14:22:09,587]    INFO [count] Using index index.idx to generate BUS file to sample6 from\n",
      "[2024-03-21 14:22:09,588]    INFO [count]         /home/ilosz01/Documents/single_cell_sequencing/data/sample6/P29910_1001_S5_I1_001.fastq.gz\n",
      "[2024-03-21 14:22:09,588]    INFO [count]         /home/ilosz01/Documents/single_cell_sequencing/data/sample6/P29910_1001_S5_I2_001.fastq.gz\n",
      "[2024-03-21 14:22:09,588]    INFO [count]         /home/ilosz01/Documents/single_cell_sequencing/data/sample6/P29910_1001_S5_R1_001.fastq.gz\n",
      "[2024-03-21 14:22:09,588]    INFO [count]         /home/ilosz01/Documents/single_cell_sequencing/data/sample6/P29910_1001_S5_R2_001.fastq.gz\n",
      "[2024-03-21 14:39:49,728]    INFO [count] Sorting BUS file sample6/output.bus to sample6/tmp/output.s.bus\n",
      "[2024-03-21 14:40:04,775]    INFO [count] On-list not provided\n",
      "[2024-03-21 14:40:04,776]    INFO [count] Generating on-list sample6/whitelist.txt from BUS file sample6/tmp/output.s.bus\n",
      "[2024-03-21 14:40:06,095]    INFO [count] Inspecting BUS file sample6/tmp/output.s.bus\n",
      "[2024-03-21 14:40:07,509]    INFO [count] Correcting BUS records in sample6/tmp/output.s.bus to sample6/tmp/output.s.c.bus with on-list sample6/whitelist.txt\n",
      "[2024-03-21 14:40:10,633]    INFO [count] Sorting BUS file sample6/tmp/output.s.c.bus to sample6/output.unfiltered.bus\n",
      "[2024-03-21 14:40:14,660]    INFO [count] Capturing records from BUS file sample6/output.unfiltered.bus to sample6/output_internal.bus with capture list sample6/capture_nonUMI.txt\n",
      "[2024-03-21 14:40:17,401]    INFO [count] Inspecting BUS file sample6/output_internal.bus\n",
      "[2024-03-21 14:40:18,521]    INFO [count] Sorting BUS file sample6/output_internal.bus to sample6/output_internal.unfiltered.bus\n",
      "[2024-03-21 14:40:20,543]    INFO [count] Generating count matrix sample6/counts_unfiltered_internal/cells_x_genes from BUS file sample6/output_internal.unfiltered.bus\n",
      "[2024-03-21 14:40:26,003]    INFO [count] Writing gene names to file sample6/counts_unfiltered_internal/cells_x_genes.genes.names.txt\n",
      "[2024-03-21 14:40:26,123] WARNING [count] 1599 gene IDs do not have corresponding valid gene names. These genes will use their gene IDs instead.\n",
      "[2024-03-21 14:40:26,134]    INFO [count] Reading matrix sample6/counts_unfiltered_internal/cells_x_genes.mtx\n",
      "[2024-03-21 14:40:28,687]    INFO [count] Writing matrix to h5ad sample6/counts_unfiltered_internal/adata.h5ad\n",
      "[2024-03-21 14:40:28,716]    INFO [count] Capturing records from BUS file sample6/output.unfiltered.bus to sample6/output_umi.bus with capture list sample6/capture_nonUMI.txt\n",
      "[2024-03-21 14:40:32,459]    INFO [count] Inspecting BUS file sample6/output_umi.bus\n",
      "[2024-03-21 14:40:33,786]    INFO [count] Sorting BUS file sample6/output_umi.bus to sample6/output_umi.unfiltered.bus\n",
      "[2024-03-21 14:40:37,119]    INFO [count] Generating count matrix sample6/counts_unfiltered_umi/cells_x_genes from BUS file sample6/output_umi.unfiltered.bus\n",
      "[2024-03-21 14:40:46,584]    INFO [count] Writing gene names to file sample6/counts_unfiltered_umi/cells_x_genes.genes.names.txt\n",
      "[2024-03-21 14:40:46,702] WARNING [count] 1599 gene IDs do not have corresponding valid gene names. These genes will use their gene IDs instead.\n",
      "[2024-03-21 14:40:46,715]    INFO [count] Reading matrix sample6/counts_unfiltered_umi/cells_x_genes.mtx\n",
      "[2024-03-21 14:40:49,362]    INFO [count] Writing matrix to h5ad sample6/counts_unfiltered_umi/adata.h5ad\n"
     ]
    }
   ],
   "source": [
    "##SAMPLE6\n",
    "!kb count -i index.idx -g t2g.txt -x SMARTSEQ3 -o sample6 --h5ad\\\n",
    "/home/ilosz01/Documents/single_cell_sequencing/data/sample6/P29910_1001_S5_I1_001.fastq.gz \\\n",
    "/home/ilosz01/Documents/single_cell_sequencing/data/sample6/P29910_1001_S5_I2_001.fastq.gz \\\n",
    "/home/ilosz01/Documents/single_cell_sequencing/data/sample6/P29910_1001_S5_R1_001.fastq.gz \\\n",
    "/home/ilosz01/Documents/single_cell_sequencing/data/sample6/P29910_1001_S5_R2_001.fastq.gz"
   ]
  },
  {
   "cell_type": "code",
   "execution_count": 8,
   "id": "1502c9e7",
   "metadata": {},
   "outputs": [
    {
     "name": "stdout",
     "output_type": "stream",
     "text": [
      "[2024-03-21 14:41:50,735]    INFO [count] Using index index.idx to generate BUS file to sample7 from\n",
      "[2024-03-21 14:41:50,736]    INFO [count]         /home/ilosz01/Documents/single_cell_sequencing/data/sample7/P29910_1002_S6_I1_001.fastq.gz\n",
      "[2024-03-21 14:41:50,736]    INFO [count]         /home/ilosz01/Documents/single_cell_sequencing/data/sample7/P29910_1002_S6_I2_001.fastq.gz\n",
      "[2024-03-21 14:41:50,736]    INFO [count]         /home/ilosz01/Documents/single_cell_sequencing/data/sample7/P29910_1002_S6_R1_001.fastq.gz\n",
      "[2024-03-21 14:41:50,736]    INFO [count]         /home/ilosz01/Documents/single_cell_sequencing/data/sample7/P29910_1002_S6_R2_001.fastq.gz\n",
      "[2024-03-21 15:00:41,400]    INFO [count] Sorting BUS file sample7/output.bus to sample7/tmp/output.s.bus\n",
      "[2024-03-21 15:00:59,351]    INFO [count] On-list not provided\n",
      "[2024-03-21 15:00:59,351]    INFO [count] Generating on-list sample7/whitelist.txt from BUS file sample7/tmp/output.s.bus\n",
      "[2024-03-21 15:01:00,674]    INFO [count] Inspecting BUS file sample7/tmp/output.s.bus\n",
      "[2024-03-21 15:01:02,196]    INFO [count] Correcting BUS records in sample7/tmp/output.s.bus to sample7/tmp/output.s.c.bus with on-list sample7/whitelist.txt\n",
      "[2024-03-21 15:01:05,820]    INFO [count] Sorting BUS file sample7/tmp/output.s.c.bus to sample7/output.unfiltered.bus\n",
      "[2024-03-21 15:01:10,648]    INFO [count] Capturing records from BUS file sample7/output.unfiltered.bus to sample7/output_internal.bus with capture list sample7/capture_nonUMI.txt\n",
      "[2024-03-21 15:01:13,487]    INFO [count] Inspecting BUS file sample7/output_internal.bus\n",
      "[2024-03-21 15:01:14,613]    INFO [count] Sorting BUS file sample7/output_internal.bus to sample7/output_internal.unfiltered.bus\n",
      "[2024-03-21 15:01:16,637]    INFO [count] Generating count matrix sample7/counts_unfiltered_internal/cells_x_genes from BUS file sample7/output_internal.unfiltered.bus\n",
      "[2024-03-21 15:01:22,023]    INFO [count] Writing gene names to file sample7/counts_unfiltered_internal/cells_x_genes.genes.names.txt\n",
      "[2024-03-21 15:01:22,150] WARNING [count] 1599 gene IDs do not have corresponding valid gene names. These genes will use their gene IDs instead.\n",
      "[2024-03-21 15:01:22,161]    INFO [count] Reading matrix sample7/counts_unfiltered_internal/cells_x_genes.mtx\n",
      "[2024-03-21 15:01:24,792]    INFO [count] Writing matrix to h5ad sample7/counts_unfiltered_internal/adata.h5ad\n",
      "[2024-03-21 15:01:24,824]    INFO [count] Capturing records from BUS file sample7/output.unfiltered.bus to sample7/output_umi.bus with capture list sample7/capture_nonUMI.txt\n",
      "[2024-03-21 15:01:29,576]    INFO [count] Inspecting BUS file sample7/output_umi.bus\n",
      "[2024-03-21 15:01:31,002]    INFO [count] Sorting BUS file sample7/output_umi.bus to sample7/output_umi.unfiltered.bus\n",
      "[2024-03-21 15:01:35,040]    INFO [count] Generating count matrix sample7/counts_unfiltered_umi/cells_x_genes from BUS file sample7/output_umi.unfiltered.bus\n",
      "[2024-03-21 15:01:47,135]    INFO [count] Writing gene names to file sample7/counts_unfiltered_umi/cells_x_genes.genes.names.txt\n",
      "[2024-03-21 15:01:47,250] WARNING [count] 1599 gene IDs do not have corresponding valid gene names. These genes will use their gene IDs instead.\n",
      "[2024-03-21 15:01:47,262]    INFO [count] Reading matrix sample7/counts_unfiltered_umi/cells_x_genes.mtx\n",
      "[2024-03-21 15:01:50,359]    INFO [count] Writing matrix to h5ad sample7/counts_unfiltered_umi/adata.h5ad\n"
     ]
    }
   ],
   "source": [
    "##SAMPLE7\n",
    "!kb count -i index.idx -g t2g.txt -x SMARTSEQ3 -o sample7 --h5ad\\\n",
    "/home/ilosz01/Documents/single_cell_sequencing/data/sample7/P29910_1002_S6_I1_001.fastq.gz \\\n",
    "/home/ilosz01/Documents/single_cell_sequencing/data/sample7/P29910_1002_S6_I2_001.fastq.gz \\\n",
    "/home/ilosz01/Documents/single_cell_sequencing/data/sample7/P29910_1002_S6_R1_001.fastq.gz \\\n",
    "/home/ilosz01/Documents/single_cell_sequencing/data/sample7/P29910_1002_S6_R2_001.fastq.gz"
   ]
  },
  {
   "cell_type": "code",
   "execution_count": null,
   "id": "4e98441f",
   "metadata": {},
   "outputs": [],
   "source": []
  }
 ],
 "metadata": {
  "kernelspec": {
   "display_name": "Python 3 (ipykernel)",
   "language": "python",
   "name": "python3"
  },
  "language_info": {
   "codemirror_mode": {
    "name": "ipython",
    "version": 3
   },
   "file_extension": ".py",
   "mimetype": "text/x-python",
   "name": "python",
   "nbconvert_exporter": "python",
   "pygments_lexer": "ipython3",
   "version": "3.8.0"
  }
 },
 "nbformat": 4,
 "nbformat_minor": 5
}
