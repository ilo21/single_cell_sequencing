{
 "cells": [
  {
   "cell_type": "code",
   "execution_count": 34,
   "metadata": {},
   "outputs": [
    {
     "name": "stdout",
     "output_type": "stream",
     "text": [
      "scanpy==1.9.3 anndata==0.9.2 umap==0.5.3 numpy==1.24.4 scipy==1.10.1 pandas==2.0.3 scikit-learn==1.3.0 statsmodels==0.14.0 python-igraph==0.10.6 louvain==0.8.1 pynndescent==0.5.10\n"
     ]
    }
   ],
   "source": [
    "import numpy as np\n",
    "import pandas as pd\n",
    "import scanpy as sc\n",
    "import scipy\n",
    "import anndata as ad\n",
    "import hdf5plugin\n",
    "from sklearn.decomposition import TruncatedSVD\n",
    "import matplotlib\n",
    "import matplotlib.pyplot as plt\n",
    "from matplotlib import rcParams\n",
    "import os \n",
    "#external modules\n",
    "#pretty plotting\n",
    "import seaborn as sb\n",
    "import sys \n",
    "import warnings\n",
    "warnings.filterwarnings(\"ignore\")\n",
    "sb.set_context(context='poster')\n",
    "\n",
    "import copy\n",
    "\n",
    "sc.settings.verbosity = 3             # verbosity: errors (0), warnings (1), info (2), hints (3)\n",
    "sc.logging.print_header()\n",
    "sc.settings.set_figure_params(dpi=80)"
   ]
  },
  {
   "cell_type": "markdown",
   "metadata": {},
   "source": [
    "## Data loading"
   ]
  },
  {
   "cell_type": "code",
   "execution_count": 108,
   "metadata": {},
   "outputs": [],
   "source": [
    "figure_path = r'C:\\Users\\ilosz01\\OneDrive - Linköpings universitet\\MarcinLab\\SingleCellSequencing\\scs_analysis\\figuresR'\n",
    "input_path = r'C:\\Users\\ilosz01\\OneDrive - Linköpings universitet\\MarcinLab\\SingleCellSequencing\\scs_analysis\\out'\n",
    "\n",
    "\n",
    "adata_umap_path = os.path.join(input_path,'control_scs_umap_from_R.h5ad')\n",
    "adata_path = os.path.join(input_path,'campari_scs_from_R.h5ad')\n",
    "\n",
    "\n",
    "NO_PCA = 20"
   ]
  },
  {
   "cell_type": "code",
   "execution_count": 109,
   "metadata": {},
   "outputs": [],
   "source": [
    "adata_umap = ad.read_h5ad(adata_umap_path)"
   ]
  },
  {
   "cell_type": "markdown",
   "metadata": {},
   "source": [
    "## EXPLORE"
   ]
  },
  {
   "cell_type": "code",
   "execution_count": 110,
   "metadata": {},
   "outputs": [],
   "source": [
    "### Define list of relevant genes \n",
    "\n",
    "marker_genes = ['Trpm3','Trpm2','Smr2','Sstr2','Bmpr1b','Trpm8','Trpv1','Piezo2','Piezo1','Nppb',\n",
    "                'Sst','Pvalb','Prokr2','Mrgprd','Mrgpra3','Cd34',\n",
    "                'Th','Trpa1','Ntrk3','Ntrk2','Ntrk1','Ret','Tac1','Calca','Calcb','Nefh',\n",
    "                'S100b','Scn10a','Slc17a8','Atf3','Pou4f3','Calb1','Calb2','Avil','Asic3',\n",
    "                'Asic2','Asic1','Pou6f2','Avpr1a','Pou4f2','Sox10','Casq2','Chrna7','Chrna3',\n",
    "                'P2rx3','Gfra2','Ldhb','Necab2','Spp1','Adm','Hpse','Adra2a']"
   ]
  },
  {
   "cell_type": "code",
   "execution_count": 134,
   "metadata": {},
   "outputs": [],
   "source": [
    "# made some names shorter to display\n",
    "marker_genes_dict = {\n",
    "                    'RA-LTMR': ['Ntrk2'],\n",
    "                    'C-LTMR': ['Cd34', 'Th'],\n",
    "                    'Itch': ['Nppb','Mrgpra3'],\n",
    "                    'Nonpept-Nocicept': ['Mrgprd'],\n",
    "                    'Pept-Nocicept': ['Sstr2'],\n",
    "                    'Interoceptors': ['Adra2a','Tac1'],\n",
    "                    'A-HTMR': ['Smr2','Bmpr1b'],\n",
    "                    'Propioceptors': ['Pvalb']\n",
    "}\n",
    "# marker_genes_dict = {\n",
    "#                     'RA-LTMR': ['Ntrk2'],\n",
    "#                     'C-LTMR': ['Cd34', 'Th'],\n",
    "#                     'Itch': ['Nppb','Mrgpra3'],\n",
    "#                     'Nonpeptidergic-Nociceptors': ['Mrgprd'],\n",
    "#                     'Peptidergic-Nociceptors': ['Sstr2'],\n",
    "#                     'Interoceptors': ['Adra2a','Tac1'],\n",
    "#                     'A-HTMR': ['Smr2','Bmpr1b'],\n",
    "#                     'Propioceptores': ['Pvalb']\n",
    "# }"
   ]
  },
  {
   "cell_type": "code",
   "execution_count": 112,
   "metadata": {},
   "outputs": [],
   "source": [
    "labels=['Control','pinch','new_stroke','ballon','AG','AD','heating','mock','old_stroke','anal_pinch','mock_w_poop','vaginal_distension','tomatoe','poop', 'bladder','CRD','AD+CFA','AGB+CFA','heating+CFA','tail brush','TRPM8 td tomatoe']\n",
    "stim_str = ['0', '1', '2','3','4','5','6','7','8','9','10','11','12','13','14','15','16','17','18','19','20']"
   ]
  },
  {
   "cell_type": "code",
   "execution_count": 113,
   "metadata": {},
   "outputs": [
    {
     "data": {
      "text/plain": [
       "AnnData object with n_obs × n_vars = 1706 × 16000\n",
       "    obs: 'barcode', 'stimulus', 'red', 'green', 'well_id', 'plate_number', 'batch', 'n_counts', 'n_genes', 'n_genes_by_counts', 'total_counts', 'total_counts_mt', 'pct_counts_mt', 'louvain_r0.5', 'louvain_r1', 'louvain_r1.5', 'louvain_r2', 'louvain_r2.5'\n",
       "    var: 'gene_id', 'gene_name', 'n_cells', 'mt', 'n_cells_by_counts', 'mean_counts', 'pct_dropout_by_counts', 'total_counts', 'highly_variable', 'means', 'dispersions', 'dispersions_norm', 'mean', 'std'\n",
       "    uns: 'hvg', 'log1p', 'louvain', 'louvain_r0.5_colors', 'louvain_r1.5_colors', 'louvain_r1_colors', 'louvain_r2.5_colors', 'louvain_r2_colors', 'neighbors', 'pca', 'umap'\n",
       "    obsm: 'X_pca', 'X_umap'\n",
       "    varm: 'PCs'\n",
       "    obsp: 'connectivities', 'distances'"
      ]
     },
     "execution_count": 113,
     "metadata": {},
     "output_type": "execute_result"
    }
   ],
   "source": [
    "adata_umap"
   ]
  },
  {
   "cell_type": "code",
   "execution_count": 114,
   "metadata": {},
   "outputs": [],
   "source": [
    "# remove some cells from data to be ranked (mock_w_poop,poop,CRD?)\n",
    "stim2exclude = [10,13,14,15]\n",
    "# Remove items with the value x from 'obs_variable'\n",
    "for el in stim2exclude:\n",
    "    adata_umap = adata_umap[adata_umap.obs['stimulus'] != el]"
   ]
  },
  {
   "cell_type": "code",
   "execution_count": 115,
   "metadata": {},
   "outputs": [],
   "source": [
    "# # there is just one poop cell and it ruined gene ranking, so: replace 13=poop with 5=AD\n",
    "# stims = list(adata_umap.obs['stimulus'].values)\n",
    "# idx=stims.index(13)\n",
    "# # replace 13=poop with 5=AD\n",
    "# stims[idx] = 5\n",
    "# adata_umap.obs['stimulus'] = stims"
   ]
  },
  {
   "cell_type": "code",
   "execution_count": 116,
   "metadata": {},
   "outputs": [],
   "source": [
    "# Correct for ranking baloon=3 should be AD=5\n",
    "stims = adata_umap.obs['stimulus'].values\n",
    "stims[stims == 3] = 5\n",
    "adata_umap.obs['stimulus'] = stims"
   ]
  },
  {
   "cell_type": "code",
   "execution_count": 117,
   "metadata": {},
   "outputs": [
    {
     "data": {
      "text/plain": [
       "0-sample1-sample12-sample123-sample1234     2\n",
       "1-sample1-sample12-sample123-sample1234     2\n",
       "2-sample1-sample12-sample123-sample1234     2\n",
       "4-sample1-sample12-sample123-sample1234     1\n",
       "5-sample1-sample12-sample123-sample1234     1\n",
       "                                           ..\n",
       "379-sample5                                18\n",
       "380-sample5                                18\n",
       "381-sample5                                18\n",
       "382-sample5                                18\n",
       "383-sample5                                18\n",
       "Name: stimulus_, Length: 1689, dtype: category\n",
       "Categories (16, object): ['0', '1', '11', '12', ..., '6', '7', '8', '9']"
      ]
     },
     "execution_count": 117,
     "metadata": {},
     "output_type": "execute_result"
    }
   ],
   "source": [
    "# create category type obs variable that will be used for ranking\n",
    "adata_umap.obs['stimulus_'] = adata_umap.obs['stimulus'].astype('category') # copy stimulus data to new obs for ranking \n",
    "new_values = [str(int(el)) for el in adata_umap.obs['stimulus_'].values]    # convert stimulus to string categories\n",
    "adata_umap.obs['stimulus_'] = new_values                                    # replace float values with new string values (changed type to object)\n",
    "adata_umap.obs['stimulus_'].astype('category')                              # make it category type again"
   ]
  },
  {
   "cell_type": "code",
   "execution_count": 118,
   "metadata": {},
   "outputs": [],
   "source": [
    "# create ordered list of stim names\n",
    "stim_labels = []\n",
    "for stim in adata_umap.obs['stimulus_'].values:\n",
    "    idx = stim_str.index(stim)\n",
    "    new_label = labels[idx]\n",
    "    stim_labels.append(new_label)"
   ]
  },
  {
   "cell_type": "code",
   "execution_count": 119,
   "metadata": {},
   "outputs": [
    {
     "data": {
      "text/plain": [
       "0-sample1-sample12-sample123-sample1234     new_stroke\n",
       "1-sample1-sample12-sample123-sample1234     new_stroke\n",
       "2-sample1-sample12-sample123-sample1234     new_stroke\n",
       "4-sample1-sample12-sample123-sample1234          pinch\n",
       "5-sample1-sample12-sample123-sample1234          pinch\n",
       "                                              ...     \n",
       "379-sample5                                heating+CFA\n",
       "380-sample5                                heating+CFA\n",
       "381-sample5                                heating+CFA\n",
       "382-sample5                                heating+CFA\n",
       "383-sample5                                heating+CFA\n",
       "Name: stimulus_, Length: 1689, dtype: object"
      ]
     },
     "execution_count": 119,
     "metadata": {},
     "output_type": "execute_result"
    }
   ],
   "source": [
    "adata_umap.obs['stimulus_'] = stim_labels \n",
    "adata_umap.obs['stimulus_']"
   ]
  },
  {
   "cell_type": "code",
   "execution_count": 120,
   "metadata": {},
   "outputs": [
    {
     "name": "stdout",
     "output_type": "stream",
     "text": [
      "WARNING: adata.X seems to be already log-transformed.\n"
     ]
    },
    {
     "data": {
      "text/plain": [
       "{'base': None}"
      ]
     },
     "execution_count": 120,
     "metadata": {},
     "output_type": "execute_result"
    }
   ],
   "source": [
    "sc.pp.log1p(adata_umap) # it was already logaritmized but adata.uns['log1p'] has no 'base' key\n",
    "adata_umap.uns['log1p']"
   ]
  },
  {
   "cell_type": "code",
   "execution_count": 121,
   "metadata": {},
   "outputs": [
    {
     "name": "stdout",
     "output_type": "stream",
     "text": [
      "ranking genes\n",
      "    finished: added to `.uns['rank_genes_groups']`\n",
      "    'names', sorted np.recarray to be indexed by group ids\n",
      "    'scores', sorted np.recarray to be indexed by group ids\n",
      "    'logfoldchanges', sorted np.recarray to be indexed by group ids\n",
      "    'pvals', sorted np.recarray to be indexed by group ids\n",
      "    'pvals_adj', sorted np.recarray to be indexed by group ids (0:00:04)\n"
     ]
    }
   ],
   "source": [
    "sc.tl.rank_genes_groups(adata_umap, 'stimulus_', method='wilcoxon')"
   ]
  },
  {
   "cell_type": "code",
   "execution_count": 122,
   "metadata": {},
   "outputs": [
    {
     "data": {
      "text/html": [
       "<div>\n",
       "<style scoped>\n",
       "    .dataframe tbody tr th:only-of-type {\n",
       "        vertical-align: middle;\n",
       "    }\n",
       "\n",
       "    .dataframe tbody tr th {\n",
       "        vertical-align: top;\n",
       "    }\n",
       "\n",
       "    .dataframe thead th {\n",
       "        text-align: right;\n",
       "    }\n",
       "</style>\n",
       "<table border=\"1\" class=\"dataframe\">\n",
       "  <thead>\n",
       "    <tr style=\"text-align: right;\">\n",
       "      <th></th>\n",
       "      <th>AD</th>\n",
       "      <th>AD+CFA</th>\n",
       "      <th>AG</th>\n",
       "      <th>AGB+CFA</th>\n",
       "      <th>Control</th>\n",
       "      <th>TRPM8 td tomatoe</th>\n",
       "      <th>anal_pinch</th>\n",
       "      <th>heating</th>\n",
       "      <th>heating+CFA</th>\n",
       "      <th>mock</th>\n",
       "      <th>new_stroke</th>\n",
       "      <th>old_stroke</th>\n",
       "      <th>pinch</th>\n",
       "      <th>tail brush</th>\n",
       "      <th>tomatoe</th>\n",
       "      <th>vaginal_distension</th>\n",
       "    </tr>\n",
       "  </thead>\n",
       "  <tbody>\n",
       "    <tr>\n",
       "      <th>0</th>\n",
       "      <td>Ccn1</td>\n",
       "      <td>Gm29216</td>\n",
       "      <td>Mcam</td>\n",
       "      <td>Pfkm</td>\n",
       "      <td>Tmsb10</td>\n",
       "      <td>AA465934</td>\n",
       "      <td>Eef1a2</td>\n",
       "      <td>Gpm6a</td>\n",
       "      <td>Rbm3</td>\n",
       "      <td>Ptn</td>\n",
       "      <td>Ptn</td>\n",
       "      <td>campari2</td>\n",
       "      <td>Hmgb1</td>\n",
       "      <td>Pla2g7</td>\n",
       "      <td>1500015A07Rik</td>\n",
       "      <td>mt-Nd6</td>\n",
       "    </tr>\n",
       "    <tr>\n",
       "      <th>1</th>\n",
       "      <td>Neat1</td>\n",
       "      <td>Dync1h1</td>\n",
       "      <td>Tpbgl</td>\n",
       "      <td>Gm7308</td>\n",
       "      <td>Cystm1</td>\n",
       "      <td>Rps3a3</td>\n",
       "      <td>Rpl10-ps6</td>\n",
       "      <td>Skp1a</td>\n",
       "      <td>Ctsl</td>\n",
       "      <td>campari2</td>\n",
       "      <td>Rfk</td>\n",
       "      <td>cre</td>\n",
       "      <td>Uqcc2</td>\n",
       "      <td>Sdcbp</td>\n",
       "      <td>Vcp-rs</td>\n",
       "      <td>mt-Rnr2</td>\n",
       "    </tr>\n",
       "    <tr>\n",
       "      <th>2</th>\n",
       "      <td>campari2</td>\n",
       "      <td>Gm13394</td>\n",
       "      <td>Ak5</td>\n",
       "      <td>Ehd3</td>\n",
       "      <td>Pcsk1n</td>\n",
       "      <td>A930005H10Rik</td>\n",
       "      <td>Rpl10-ps5</td>\n",
       "      <td>Fnbp1l</td>\n",
       "      <td>Skp1a</td>\n",
       "      <td>Selenop</td>\n",
       "      <td>Nptn</td>\n",
       "      <td>Gm6063</td>\n",
       "      <td>Rhou</td>\n",
       "      <td>Aopep</td>\n",
       "      <td>Rps3a3</td>\n",
       "      <td>Foxn3</td>\n",
       "    </tr>\n",
       "    <tr>\n",
       "      <th>3</th>\n",
       "      <td>Nr4a1</td>\n",
       "      <td>Cltc</td>\n",
       "      <td>Atp2b2</td>\n",
       "      <td>Atp9a</td>\n",
       "      <td>Calcb</td>\n",
       "      <td>Gap43</td>\n",
       "      <td>Gm7476</td>\n",
       "      <td>Cd55</td>\n",
       "      <td>Eef1a1</td>\n",
       "      <td>Sult1a1</td>\n",
       "      <td>Sparc</td>\n",
       "      <td>Gm24447</td>\n",
       "      <td>Mbnl1</td>\n",
       "      <td>Gpx2</td>\n",
       "      <td>Gm13453</td>\n",
       "      <td>Rab5a</td>\n",
       "    </tr>\n",
       "    <tr>\n",
       "      <th>4</th>\n",
       "      <td>Slc9a3r1</td>\n",
       "      <td>Lars2</td>\n",
       "      <td>Map7d1</td>\n",
       "      <td>Syp</td>\n",
       "      <td>Mrpl57</td>\n",
       "      <td>Ntrk1</td>\n",
       "      <td>Kctd16</td>\n",
       "      <td>Adk</td>\n",
       "      <td>Srsf5</td>\n",
       "      <td>Rgcc</td>\n",
       "      <td>Rgcc</td>\n",
       "      <td>Eif2s3y</td>\n",
       "      <td>Fkbp1b</td>\n",
       "      <td>Mtfr1l</td>\n",
       "      <td>Gm20305</td>\n",
       "      <td>Vapa</td>\n",
       "    </tr>\n",
       "    <tr>\n",
       "      <th>5</th>\n",
       "      <td>Acaa1a</td>\n",
       "      <td>Akap12</td>\n",
       "      <td>Myo18a</td>\n",
       "      <td>Iars</td>\n",
       "      <td>Fam189b</td>\n",
       "      <td>Rbfox3</td>\n",
       "      <td>Atg9a</td>\n",
       "      <td>Cd82</td>\n",
       "      <td>Fgf13</td>\n",
       "      <td>cre</td>\n",
       "      <td>Eid1</td>\n",
       "      <td>Tmem176b</td>\n",
       "      <td>Bcl7c</td>\n",
       "      <td>Cd59a</td>\n",
       "      <td>Gm4202</td>\n",
       "      <td>Ptp4a2</td>\n",
       "    </tr>\n",
       "    <tr>\n",
       "      <th>6</th>\n",
       "      <td>Csmd1</td>\n",
       "      <td>Kif5a</td>\n",
       "      <td>Pygb</td>\n",
       "      <td>Gm13341</td>\n",
       "      <td>Nenf</td>\n",
       "      <td>Celf4</td>\n",
       "      <td>Phc3</td>\n",
       "      <td>Smim5</td>\n",
       "      <td>Morf4l2</td>\n",
       "      <td>Mt2</td>\n",
       "      <td>Cacybp</td>\n",
       "      <td>Gm17494</td>\n",
       "      <td>Ddx24</td>\n",
       "      <td>Manf</td>\n",
       "      <td>Ftl1-ps1</td>\n",
       "      <td>Marcks</td>\n",
       "    </tr>\n",
       "    <tr>\n",
       "      <th>7</th>\n",
       "      <td>cre</td>\n",
       "      <td>Scd2</td>\n",
       "      <td>Stac2</td>\n",
       "      <td>Nsf</td>\n",
       "      <td>Mt3</td>\n",
       "      <td>Jpt1</td>\n",
       "      <td>Prepl</td>\n",
       "      <td>Snx10</td>\n",
       "      <td>Basp1</td>\n",
       "      <td>Mbp</td>\n",
       "      <td>Trim2</td>\n",
       "      <td>Rn7sk</td>\n",
       "      <td>Galt</td>\n",
       "      <td>Pja1</td>\n",
       "      <td>Ap3s1</td>\n",
       "      <td>Pacsin1</td>\n",
       "    </tr>\n",
       "    <tr>\n",
       "      <th>8</th>\n",
       "      <td>Zfp36</td>\n",
       "      <td>Fasn</td>\n",
       "      <td>Scn8a</td>\n",
       "      <td>Rab15</td>\n",
       "      <td>Atpaf2</td>\n",
       "      <td>Zdhhc22</td>\n",
       "      <td>Samd12</td>\n",
       "      <td>Ifit3b</td>\n",
       "      <td>Npm1</td>\n",
       "      <td>Spp1</td>\n",
       "      <td>Pdha1</td>\n",
       "      <td>Rn7s2</td>\n",
       "      <td>Id1</td>\n",
       "      <td>mt-Cytb</td>\n",
       "      <td>Ptges3</td>\n",
       "      <td>Ppp2r5c</td>\n",
       "    </tr>\n",
       "    <tr>\n",
       "      <th>9</th>\n",
       "      <td>Id3</td>\n",
       "      <td>Syn1</td>\n",
       "      <td>Myh14</td>\n",
       "      <td>Flii</td>\n",
       "      <td>Map1b</td>\n",
       "      <td>Kit</td>\n",
       "      <td>Tom1l2</td>\n",
       "      <td>Moxd1</td>\n",
       "      <td>Mettl7a3</td>\n",
       "      <td>Ubc</td>\n",
       "      <td>Vegfa</td>\n",
       "      <td>Rps27</td>\n",
       "      <td>Ypel3</td>\n",
       "      <td>Pdcd10</td>\n",
       "      <td>Rpl9-ps6</td>\n",
       "      <td>Atxn7l3b</td>\n",
       "    </tr>\n",
       "  </tbody>\n",
       "</table>\n",
       "</div>"
      ],
      "text/plain": [
       "         AD   AD+CFA      AG  AGB+CFA  Control TRPM8 td tomatoe anal_pinch  \\\n",
       "0      Ccn1  Gm29216    Mcam     Pfkm   Tmsb10         AA465934     Eef1a2   \n",
       "1     Neat1  Dync1h1   Tpbgl   Gm7308   Cystm1           Rps3a3  Rpl10-ps6   \n",
       "2  campari2  Gm13394     Ak5     Ehd3   Pcsk1n    A930005H10Rik  Rpl10-ps5   \n",
       "3     Nr4a1     Cltc  Atp2b2    Atp9a    Calcb            Gap43     Gm7476   \n",
       "4  Slc9a3r1    Lars2  Map7d1      Syp   Mrpl57            Ntrk1     Kctd16   \n",
       "5    Acaa1a   Akap12  Myo18a     Iars  Fam189b           Rbfox3      Atg9a   \n",
       "6     Csmd1    Kif5a    Pygb  Gm13341     Nenf            Celf4       Phc3   \n",
       "7       cre     Scd2   Stac2      Nsf      Mt3             Jpt1      Prepl   \n",
       "8     Zfp36     Fasn   Scn8a    Rab15   Atpaf2          Zdhhc22     Samd12   \n",
       "9       Id3     Syn1   Myh14     Flii    Map1b              Kit     Tom1l2   \n",
       "\n",
       "  heating heating+CFA      mock new_stroke old_stroke   pinch tail brush  \\\n",
       "0   Gpm6a        Rbm3       Ptn        Ptn   campari2   Hmgb1     Pla2g7   \n",
       "1   Skp1a        Ctsl  campari2        Rfk        cre   Uqcc2      Sdcbp   \n",
       "2  Fnbp1l       Skp1a   Selenop       Nptn     Gm6063    Rhou      Aopep   \n",
       "3    Cd55      Eef1a1   Sult1a1      Sparc    Gm24447   Mbnl1       Gpx2   \n",
       "4     Adk       Srsf5      Rgcc       Rgcc    Eif2s3y  Fkbp1b     Mtfr1l   \n",
       "5    Cd82       Fgf13       cre       Eid1   Tmem176b   Bcl7c      Cd59a   \n",
       "6   Smim5     Morf4l2       Mt2     Cacybp    Gm17494   Ddx24       Manf   \n",
       "7   Snx10       Basp1       Mbp      Trim2      Rn7sk    Galt       Pja1   \n",
       "8  Ifit3b        Npm1      Spp1      Pdha1      Rn7s2     Id1    mt-Cytb   \n",
       "9   Moxd1    Mettl7a3       Ubc      Vegfa      Rps27   Ypel3     Pdcd10   \n",
       "\n",
       "         tomatoe vaginal_distension  \n",
       "0  1500015A07Rik             mt-Nd6  \n",
       "1         Vcp-rs            mt-Rnr2  \n",
       "2         Rps3a3              Foxn3  \n",
       "3        Gm13453              Rab5a  \n",
       "4        Gm20305               Vapa  \n",
       "5         Gm4202             Ptp4a2  \n",
       "6       Ftl1-ps1             Marcks  \n",
       "7          Ap3s1            Pacsin1  \n",
       "8         Ptges3            Ppp2r5c  \n",
       "9       Rpl9-ps6           Atxn7l3b  "
      ]
     },
     "execution_count": 122,
     "metadata": {},
     "output_type": "execute_result"
    }
   ],
   "source": [
    "pd.DataFrame(adata_umap.uns['rank_genes_groups']['names']).head(10)"
   ]
  },
  {
   "cell_type": "code",
   "execution_count": 123,
   "metadata": {},
   "outputs": [],
   "source": [
    "# there are some gene name duplicates\n",
    "def unique(list1):\n",
    " \n",
    "    # initialize a null list\n",
    "    unique_list = []\n",
    "    unique_index = []\n",
    " \n",
    "    # traverse for all elements\n",
    "    count = 0\n",
    "    for x in list1:\n",
    "        # check if exists in unique_list or not\n",
    "        if x not in unique_list:\n",
    "            unique_list.append(x)\n",
    "            unique_index.append(count)\n",
    "        count+=1\n",
    "    return unique_list,unique_index\n",
    "        \n",
    "gene_name = []\n",
    "for i in range(len(adata_umap.var['gene_name'])):\n",
    "    gene_name.append(adata_umap.var['gene_name'].iloc[i])\n",
    "\n",
    "# remove duplicates\n",
    "unique_genes , unique_genes_index = unique(gene_name)\n",
    "\n",
    "adata_umap = adata_umap[:,np.array(unique_genes_index)]"
   ]
  },
  {
   "cell_type": "code",
   "execution_count": 136,
   "metadata": {},
   "outputs": [
    {
     "name": "stdout",
     "output_type": "stream",
     "text": [
      "WARNING: Groups are not reordered because the `groupby` categories and the `var_group_labels` are different.\n",
      "categories: AD, AD+CFA, AG, etc.\n",
      "var_group_labels: RA-LTMR, C-LTMR, Itch, etc.\n"
     ]
    }
   ],
   "source": [
    "# show plot as pop-up\n",
    "%matplotlib tk \n",
    "sc.pl.heatmap(adata_umap, marker_genes_dict, groupby='stimulus_', cmap='rainbow', use_raw=False, figsize=(10,10), \n",
    "              show=True,show_gene_labels=True,var_group_rotation=45, dendrogram = True,vmin=-3,vmax=3)"
   ]
  },
  {
   "cell_type": "code",
   "execution_count": null,
   "metadata": {},
   "outputs": [],
   "source": []
  }
 ],
 "metadata": {
  "kernelspec": {
   "display_name": "scs",
   "language": "python",
   "name": "python3"
  },
  "language_info": {
   "codemirror_mode": {
    "name": "ipython",
    "version": 3
   },
   "file_extension": ".py",
   "mimetype": "text/x-python",
   "name": "python",
   "nbconvert_exporter": "python",
   "pygments_lexer": "ipython3",
   "version": "3.8.17"
  }
 },
 "nbformat": 4,
 "nbformat_minor": 2
}
